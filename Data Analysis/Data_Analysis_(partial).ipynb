{
  "nbformat": 4,
  "nbformat_minor": 0,
  "metadata": {
    "colab": {
      "name": "Data Analysis (partial).ipynb",
      "provenance": [],
      "collapsed_sections": []
    },
    "kernelspec": {
      "name": "python3",
      "display_name": "Python 3"
    }
  },
  "cells": [
    {
      "cell_type": "markdown",
      "metadata": {
        "id": "fxYelt3BPCrX",
        "colab_type": "text"
      },
      "source": [
        "\n",
        "Sample data analysis and predictive modeling of flight price prediction for **Fly.me**"
      ]
    },
    {
      "cell_type": "code",
      "metadata": {
        "id": "kOSjoRaQs43T",
        "colab_type": "code",
        "outputId": "a966baed-a94e-4673-c111-b5361a25a8aa",
        "colab": {
          "base_uri": "https://localhost:8080/",
          "height": 54
        }
      },
      "source": [
        "##sample dataset is stored in google drive ##\n",
        "\n",
        "# to mount drive in google colaboratory environment #\n",
        "from google.colab import drive\n",
        "drive.mount('/content/drive')"
      ],
      "execution_count": 232,
      "outputs": [
        {
          "output_type": "stream",
          "text": [
            "Drive already mounted at /content/drive; to attempt to forcibly remount, call drive.mount(\"/content/drive\", force_remount=True).\n"
          ],
          "name": "stdout"
        }
      ]
    },
    {
      "cell_type": "code",
      "metadata": {
        "id": "O95i7r_As6Iy",
        "colab_type": "code",
        "colab": {}
      },
      "source": [
        "## required libraries\n",
        "\n",
        "import pandas as pd                 # for statistical analysis\n",
        "import numpy as np                  # for mathematical operations\n",
        "import seaborn as sns               # for visualization\n",
        "import matplotlib.pyplot as plt     ################"
      ],
      "execution_count": 0,
      "outputs": []
    },
    {
      "cell_type": "markdown",
      "metadata": {
        "id": "J94IA51VfIAi",
        "colab_type": "text"
      },
      "source": [
        "## Data Collection\n",
        "\n",
        "\n",
        "Data is generated every 5 minutes approx in form of xml file, xml file has tree like structure and cannot be used directly for data analysis and predictive modeling. So to get data in form of csv/excel sheet, we have a xml parser **[script](https://github.com/raheel-dev/Fly.me-Data-Analysis-Predictive-modeling/blob/master/XML%20Parser/xml2csvV1.ipynb)** written in python using 'lxml library', sample dataset consist of 3 GB, extracted records are more 153k+ and 34 columns."
      ]
    },
    {
      "cell_type": "code",
      "metadata": {
        "id": "lFniEaFFtNoK",
        "colab_type": "code",
        "outputId": "038315cc-a293-4098-a957-1e514e97f363",
        "colab": {
          "base_uri": "https://localhost:8080/",
          "height": 70
        }
      },
      "source": [
        "## reading dataset from directory\n",
        "df = pd.read_csv('/content/drive/My Drive/sabre-ingest/sabre_ingest_data.csv')"
      ],
      "execution_count": 234,
      "outputs": [
        {
          "output_type": "stream",
          "text": [
            "/usr/local/lib/python3.6/dist-packages/IPython/core/interactiveshell.py:2718: DtypeWarning: Columns (29,30) have mixed types. Specify dtype option on import or set low_memory=False.\n",
            "  interactivity=interactivity, compiler=compiler, result=result)\n"
          ],
          "name": "stderr"
        }
      ]
    },
    {
      "cell_type": "code",
      "metadata": {
        "colab_type": "code",
        "outputId": "8c75b4c4-2726-4a99-c58e-37e0201599e3",
        "id": "YJ0z8YfJW4L7",
        "colab": {
          "base_uri": "https://localhost:8080/",
          "height": 34
        }
      },
      "source": [
        "type(df)"
      ],
      "execution_count": 235,
      "outputs": [
        {
          "output_type": "execute_result",
          "data": {
            "text/plain": [
              "pandas.core.frame.DataFrame"
            ]
          },
          "metadata": {
            "tags": []
          },
          "execution_count": 235
        }
      ]
    },
    {
      "cell_type": "code",
      "metadata": {
        "id": "oLdnx7FWW5RW",
        "colab_type": "code",
        "colab": {}
      },
      "source": [
        "df = df.loc[:, ~df.columns.str.contains('^Unnamed')]"
      ],
      "execution_count": 0,
      "outputs": []
    },
    {
      "cell_type": "code",
      "metadata": {
        "id": "k9Ugjf20u2vq",
        "colab_type": "code",
        "outputId": "50fba594-1580-4b59-d670-173f7a74e550",
        "colab": {
          "base_uri": "https://localhost:8080/",
          "height": 672
        }
      },
      "source": [
        "df.info()"
      ],
      "execution_count": 237,
      "outputs": [
        {
          "output_type": "stream",
          "text": [
            "<class 'pandas.core.frame.DataFrame'>\n",
            "RangeIndex: 153507 entries, 0 to 153506\n",
            "Data columns (total 34 columns):\n",
            "schedule_id                      153507 non-null int64\n",
            "stops                            153507 non-null int64\n",
            "eticketable                      153507 non-null bool\n",
            "departure_airport                153507 non-null object\n",
            "departure_city                   153507 non-null object\n",
            "departure_time                   153507 non-null object\n",
            "departure_timezoneOffset         153507 non-null object\n",
            "arrival_aiport                   153507 non-null object\n",
            "arrival_city                     153507 non-null object\n",
            "arrival_time                     153507 non-null object\n",
            "arrival_dateAdjustment           153507 non-null int64\n",
            "arrival_timezoneOffset           153507 non-null object\n",
            "carrier_marketing                153507 non-null object\n",
            "carrier_operating                153507 non-null object\n",
            "carrier_codeShared               25714 non-null object\n",
            "carrier_operatingFlightNumber    153507 non-null int64\n",
            "carrier_marketingFlightNumber    153507 non-null int64\n",
            "equipment_code                   153507 non-null object\n",
            "equipment_change                 153507 non-null bool\n",
            "pricing_subSource                153507 non-null object\n",
            "PoSCountryCode                   153507 non-null object\n",
            "passenger_group                  153507 non-null int64\n",
            "passenger_type                   153507 non-null object\n",
            "passenger_number                 153507 non-null int64\n",
            "passenger_nonRefundable          153507 non-null bool\n",
            "total_price                      153507 non-null float64\n",
            "total_taxes                      153507 non-null float64\n",
            "currency                         153507 non-null object\n",
            "departure_date                   5698 non-null object\n",
            "return_date                      5698 non-null object\n",
            "booking_code                     153507 non-null object\n",
            "cabin_code                       153507 non-null object\n",
            "seats_available                  153507 non-null int64\n",
            "availablity_break                153507 non-null bool\n",
            "dtypes: bool(4), float64(2), int64(8), object(20)\n",
            "memory usage: 35.7+ MB\n"
          ],
          "name": "stdout"
        }
      ]
    },
    {
      "cell_type": "markdown",
      "metadata": {
        "id": "5BsTZrNHmy-2",
        "colab_type": "text"
      },
      "source": [
        "So data have more than 153k records and 34 columns, by looking at the entries it looks like that there are null values in 'carrier_codeShared, 'departure and return dates'.\n",
        "\n",
        "**Note**: departure and return dates are not extracted fully yet so this is partial analysis"
      ]
    },
    {
      "cell_type": "code",
      "metadata": {
        "id": "Vt0m2dZwu5AP",
        "colab_type": "code",
        "outputId": "6e9eb463-20a2-40fa-e9a0-144a3ece3833",
        "colab": {
          "base_uri": "https://localhost:8080/",
          "height": 363
        }
      },
      "source": [
        "## print first 10 records of data head to see what data looks like ##\n",
        "df.head(10)"
      ],
      "execution_count": 238,
      "outputs": [
        {
          "output_type": "execute_result",
          "data": {
            "text/html": [
              "<div>\n",
              "<style scoped>\n",
              "    .dataframe tbody tr th:only-of-type {\n",
              "        vertical-align: middle;\n",
              "    }\n",
              "\n",
              "    .dataframe tbody tr th {\n",
              "        vertical-align: top;\n",
              "    }\n",
              "\n",
              "    .dataframe thead th {\n",
              "        text-align: right;\n",
              "    }\n",
              "</style>\n",
              "<table border=\"1\" class=\"dataframe\">\n",
              "  <thead>\n",
              "    <tr style=\"text-align: right;\">\n",
              "      <th></th>\n",
              "      <th>schedule_id</th>\n",
              "      <th>stops</th>\n",
              "      <th>eticketable</th>\n",
              "      <th>departure_airport</th>\n",
              "      <th>departure_city</th>\n",
              "      <th>departure_time</th>\n",
              "      <th>departure_timezoneOffset</th>\n",
              "      <th>arrival_aiport</th>\n",
              "      <th>arrival_city</th>\n",
              "      <th>arrival_time</th>\n",
              "      <th>arrival_dateAdjustment</th>\n",
              "      <th>arrival_timezoneOffset</th>\n",
              "      <th>carrier_marketing</th>\n",
              "      <th>carrier_operating</th>\n",
              "      <th>carrier_codeShared</th>\n",
              "      <th>carrier_operatingFlightNumber</th>\n",
              "      <th>carrier_marketingFlightNumber</th>\n",
              "      <th>equipment_code</th>\n",
              "      <th>equipment_change</th>\n",
              "      <th>pricing_subSource</th>\n",
              "      <th>PoSCountryCode</th>\n",
              "      <th>passenger_group</th>\n",
              "      <th>passenger_type</th>\n",
              "      <th>passenger_number</th>\n",
              "      <th>passenger_nonRefundable</th>\n",
              "      <th>total_price</th>\n",
              "      <th>total_taxes</th>\n",
              "      <th>currency</th>\n",
              "      <th>departure_date</th>\n",
              "      <th>return_date</th>\n",
              "      <th>booking_code</th>\n",
              "      <th>cabin_code</th>\n",
              "      <th>seats_available</th>\n",
              "      <th>availablity_break</th>\n",
              "    </tr>\n",
              "  </thead>\n",
              "  <tbody>\n",
              "    <tr>\n",
              "      <th>0</th>\n",
              "      <td>1</td>\n",
              "      <td>0</td>\n",
              "      <td>True</td>\n",
              "      <td>DEN</td>\n",
              "      <td>DEN</td>\n",
              "      <td>23:45:00</td>\n",
              "      <td>07:00</td>\n",
              "      <td>EWR</td>\n",
              "      <td>QYC</td>\n",
              "      <td>05:19:00</td>\n",
              "      <td>1</td>\n",
              "      <td>05:00</td>\n",
              "      <td>UA</td>\n",
              "      <td>UA</td>\n",
              "      <td>NaN</td>\n",
              "      <td>329</td>\n",
              "      <td>329</td>\n",
              "      <td>739</td>\n",
              "      <td>False</td>\n",
              "      <td>BCH</td>\n",
              "      <td>US</td>\n",
              "      <td>0</td>\n",
              "      <td>ADT</td>\n",
              "      <td>1</td>\n",
              "      <td>True</td>\n",
              "      <td>249.3</td>\n",
              "      <td>52.09</td>\n",
              "      <td>USD</td>\n",
              "      <td>2019-11-24</td>\n",
              "      <td>2019-12-08</td>\n",
              "      <td>N</td>\n",
              "      <td>Y</td>\n",
              "      <td>9</td>\n",
              "      <td>False</td>\n",
              "    </tr>\n",
              "    <tr>\n",
              "      <th>1</th>\n",
              "      <td>2</td>\n",
              "      <td>0</td>\n",
              "      <td>True</td>\n",
              "      <td>EWR</td>\n",
              "      <td>QYC</td>\n",
              "      <td>07:30:00</td>\n",
              "      <td>05:00</td>\n",
              "      <td>BOS</td>\n",
              "      <td>BOS</td>\n",
              "      <td>08:39:00</td>\n",
              "      <td>0</td>\n",
              "      <td>05:00</td>\n",
              "      <td>UA</td>\n",
              "      <td>UA</td>\n",
              "      <td>NaN</td>\n",
              "      <td>2320</td>\n",
              "      <td>2320</td>\n",
              "      <td>739</td>\n",
              "      <td>False</td>\n",
              "      <td>BCH</td>\n",
              "      <td>US</td>\n",
              "      <td>0</td>\n",
              "      <td>ADT</td>\n",
              "      <td>1</td>\n",
              "      <td>True</td>\n",
              "      <td>249.3</td>\n",
              "      <td>52.09</td>\n",
              "      <td>USD</td>\n",
              "      <td>2020-08-25</td>\n",
              "      <td>2020-08-31</td>\n",
              "      <td>N</td>\n",
              "      <td>Y</td>\n",
              "      <td>9</td>\n",
              "      <td>False</td>\n",
              "    </tr>\n",
              "    <tr>\n",
              "      <th>2</th>\n",
              "      <td>3</td>\n",
              "      <td>0</td>\n",
              "      <td>True</td>\n",
              "      <td>BOS</td>\n",
              "      <td>BOS</td>\n",
              "      <td>09:45:00</td>\n",
              "      <td>05:00</td>\n",
              "      <td>DEN</td>\n",
              "      <td>DEN</td>\n",
              "      <td>12:28:00</td>\n",
              "      <td>0</td>\n",
              "      <td>07:00</td>\n",
              "      <td>UA</td>\n",
              "      <td>UA</td>\n",
              "      <td>NaN</td>\n",
              "      <td>416</td>\n",
              "      <td>416</td>\n",
              "      <td>739</td>\n",
              "      <td>False</td>\n",
              "      <td>BCH</td>\n",
              "      <td>US</td>\n",
              "      <td>0</td>\n",
              "      <td>ADT</td>\n",
              "      <td>1</td>\n",
              "      <td>True</td>\n",
              "      <td>249.3</td>\n",
              "      <td>52.09</td>\n",
              "      <td>USD</td>\n",
              "      <td>2019-10-24</td>\n",
              "      <td>2019-10-27</td>\n",
              "      <td>N</td>\n",
              "      <td>Y</td>\n",
              "      <td>9</td>\n",
              "      <td>False</td>\n",
              "    </tr>\n",
              "    <tr>\n",
              "      <th>3</th>\n",
              "      <td>4</td>\n",
              "      <td>0</td>\n",
              "      <td>True</td>\n",
              "      <td>EWR</td>\n",
              "      <td>QYC</td>\n",
              "      <td>06:30:00</td>\n",
              "      <td>05:00</td>\n",
              "      <td>BOS</td>\n",
              "      <td>BOS</td>\n",
              "      <td>07:39:00</td>\n",
              "      <td>0</td>\n",
              "      <td>05:00</td>\n",
              "      <td>UA</td>\n",
              "      <td>UA</td>\n",
              "      <td>NaN</td>\n",
              "      <td>416</td>\n",
              "      <td>416</td>\n",
              "      <td>73G</td>\n",
              "      <td>False</td>\n",
              "      <td>BCH</td>\n",
              "      <td>US</td>\n",
              "      <td>0</td>\n",
              "      <td>ADT</td>\n",
              "      <td>1</td>\n",
              "      <td>True</td>\n",
              "      <td>249.3</td>\n",
              "      <td>52.09</td>\n",
              "      <td>USD</td>\n",
              "      <td>2019-11-11</td>\n",
              "      <td>2019-11-11</td>\n",
              "      <td>N</td>\n",
              "      <td>Y</td>\n",
              "      <td>9</td>\n",
              "      <td>False</td>\n",
              "    </tr>\n",
              "    <tr>\n",
              "      <th>4</th>\n",
              "      <td>5</td>\n",
              "      <td>0</td>\n",
              "      <td>True</td>\n",
              "      <td>BOS</td>\n",
              "      <td>BOS</td>\n",
              "      <td>11:45:00</td>\n",
              "      <td>05:00</td>\n",
              "      <td>DEN</td>\n",
              "      <td>DEN</td>\n",
              "      <td>14:21:00</td>\n",
              "      <td>0</td>\n",
              "      <td>07:00</td>\n",
              "      <td>UA</td>\n",
              "      <td>UA</td>\n",
              "      <td>NaN</td>\n",
              "      <td>652</td>\n",
              "      <td>652</td>\n",
              "      <td>753</td>\n",
              "      <td>False</td>\n",
              "      <td>BCH</td>\n",
              "      <td>US</td>\n",
              "      <td>0</td>\n",
              "      <td>ADT</td>\n",
              "      <td>1</td>\n",
              "      <td>True</td>\n",
              "      <td>253.5</td>\n",
              "      <td>56.29</td>\n",
              "      <td>USD</td>\n",
              "      <td>2019-12-04</td>\n",
              "      <td>2020-01-06</td>\n",
              "      <td>N</td>\n",
              "      <td>Y</td>\n",
              "      <td>9</td>\n",
              "      <td>False</td>\n",
              "    </tr>\n",
              "    <tr>\n",
              "      <th>5</th>\n",
              "      <td>6</td>\n",
              "      <td>1</td>\n",
              "      <td>True</td>\n",
              "      <td>BOS</td>\n",
              "      <td>BOS</td>\n",
              "      <td>08:33:00</td>\n",
              "      <td>05:00</td>\n",
              "      <td>DEN</td>\n",
              "      <td>DEN</td>\n",
              "      <td>14:29:00</td>\n",
              "      <td>0</td>\n",
              "      <td>07:00</td>\n",
              "      <td>UA</td>\n",
              "      <td>UA</td>\n",
              "      <td>NaN</td>\n",
              "      <td>775</td>\n",
              "      <td>775</td>\n",
              "      <td>738</td>\n",
              "      <td>False</td>\n",
              "      <td>BCH</td>\n",
              "      <td>US</td>\n",
              "      <td>0</td>\n",
              "      <td>ADT</td>\n",
              "      <td>1</td>\n",
              "      <td>True</td>\n",
              "      <td>253.5</td>\n",
              "      <td>56.29</td>\n",
              "      <td>USD</td>\n",
              "      <td>2019-12-23</td>\n",
              "      <td>2019-12-28</td>\n",
              "      <td>N</td>\n",
              "      <td>Y</td>\n",
              "      <td>9</td>\n",
              "      <td>False</td>\n",
              "    </tr>\n",
              "    <tr>\n",
              "      <th>6</th>\n",
              "      <td>7</td>\n",
              "      <td>0</td>\n",
              "      <td>True</td>\n",
              "      <td>BOS</td>\n",
              "      <td>BOS</td>\n",
              "      <td>08:33:00</td>\n",
              "      <td>05:00</td>\n",
              "      <td>ORD</td>\n",
              "      <td>CHI</td>\n",
              "      <td>10:25:00</td>\n",
              "      <td>0</td>\n",
              "      <td>06:00</td>\n",
              "      <td>UA</td>\n",
              "      <td>UA</td>\n",
              "      <td>NaN</td>\n",
              "      <td>775</td>\n",
              "      <td>775</td>\n",
              "      <td>738</td>\n",
              "      <td>False</td>\n",
              "      <td>BCH</td>\n",
              "      <td>US</td>\n",
              "      <td>0</td>\n",
              "      <td>ADT</td>\n",
              "      <td>1</td>\n",
              "      <td>True</td>\n",
              "      <td>258.0</td>\n",
              "      <td>60.79</td>\n",
              "      <td>USD</td>\n",
              "      <td>2019-11-08</td>\n",
              "      <td>2019-11-11</td>\n",
              "      <td>N</td>\n",
              "      <td>Y</td>\n",
              "      <td>9</td>\n",
              "      <td>False</td>\n",
              "    </tr>\n",
              "    <tr>\n",
              "      <th>7</th>\n",
              "      <td>8</td>\n",
              "      <td>0</td>\n",
              "      <td>True</td>\n",
              "      <td>ORD</td>\n",
              "      <td>CHI</td>\n",
              "      <td>11:25:00</td>\n",
              "      <td>06:00</td>\n",
              "      <td>DEN</td>\n",
              "      <td>DEN</td>\n",
              "      <td>13:05:00</td>\n",
              "      <td>0</td>\n",
              "      <td>07:00</td>\n",
              "      <td>UA</td>\n",
              "      <td>UA</td>\n",
              "      <td>NaN</td>\n",
              "      <td>2314</td>\n",
              "      <td>2314</td>\n",
              "      <td>739</td>\n",
              "      <td>False</td>\n",
              "      <td>BCH</td>\n",
              "      <td>US</td>\n",
              "      <td>0</td>\n",
              "      <td>ADT</td>\n",
              "      <td>1</td>\n",
              "      <td>True</td>\n",
              "      <td>258.0</td>\n",
              "      <td>60.79</td>\n",
              "      <td>USD</td>\n",
              "      <td>2020-02-19</td>\n",
              "      <td>2020-03-05</td>\n",
              "      <td>N</td>\n",
              "      <td>Y</td>\n",
              "      <td>9</td>\n",
              "      <td>False</td>\n",
              "    </tr>\n",
              "    <tr>\n",
              "      <th>8</th>\n",
              "      <td>9</td>\n",
              "      <td>0</td>\n",
              "      <td>True</td>\n",
              "      <td>BOS</td>\n",
              "      <td>BOS</td>\n",
              "      <td>18:00:00</td>\n",
              "      <td>05:00</td>\n",
              "      <td>EWR</td>\n",
              "      <td>QYC</td>\n",
              "      <td>19:44:00</td>\n",
              "      <td>0</td>\n",
              "      <td>05:00</td>\n",
              "      <td>UA</td>\n",
              "      <td>UA</td>\n",
              "      <td>NaN</td>\n",
              "      <td>1202</td>\n",
              "      <td>1202</td>\n",
              "      <td>320</td>\n",
              "      <td>False</td>\n",
              "      <td>BCH</td>\n",
              "      <td>US</td>\n",
              "      <td>0</td>\n",
              "      <td>ADT</td>\n",
              "      <td>1</td>\n",
              "      <td>True</td>\n",
              "      <td>258.0</td>\n",
              "      <td>60.79</td>\n",
              "      <td>USD</td>\n",
              "      <td>2019-12-25</td>\n",
              "      <td>2019-12-28</td>\n",
              "      <td>N</td>\n",
              "      <td>Y</td>\n",
              "      <td>9</td>\n",
              "      <td>False</td>\n",
              "    </tr>\n",
              "    <tr>\n",
              "      <th>9</th>\n",
              "      <td>10</td>\n",
              "      <td>0</td>\n",
              "      <td>True</td>\n",
              "      <td>EWR</td>\n",
              "      <td>QYC</td>\n",
              "      <td>20:30:00</td>\n",
              "      <td>05:00</td>\n",
              "      <td>DEN</td>\n",
              "      <td>DEN</td>\n",
              "      <td>22:58:00</td>\n",
              "      <td>0</td>\n",
              "      <td>07:00</td>\n",
              "      <td>UA</td>\n",
              "      <td>UA</td>\n",
              "      <td>NaN</td>\n",
              "      <td>2217</td>\n",
              "      <td>2217</td>\n",
              "      <td>739</td>\n",
              "      <td>False</td>\n",
              "      <td>BCH</td>\n",
              "      <td>US</td>\n",
              "      <td>0</td>\n",
              "      <td>ADT</td>\n",
              "      <td>1</td>\n",
              "      <td>True</td>\n",
              "      <td>258.0</td>\n",
              "      <td>60.79</td>\n",
              "      <td>USD</td>\n",
              "      <td>2019-11-01</td>\n",
              "      <td>2019-11-15</td>\n",
              "      <td>N</td>\n",
              "      <td>Y</td>\n",
              "      <td>9</td>\n",
              "      <td>False</td>\n",
              "    </tr>\n",
              "  </tbody>\n",
              "</table>\n",
              "</div>"
            ],
            "text/plain": [
              "   schedule_id  stops  ...  seats_available availablity_break\n",
              "0            1      0  ...                9             False\n",
              "1            2      0  ...                9             False\n",
              "2            3      0  ...                9             False\n",
              "3            4      0  ...                9             False\n",
              "4            5      0  ...                9             False\n",
              "5            6      1  ...                9             False\n",
              "6            7      0  ...                9             False\n",
              "7            8      0  ...                9             False\n",
              "8            9      0  ...                9             False\n",
              "9           10      0  ...                9             False\n",
              "\n",
              "[10 rows x 34 columns]"
            ]
          },
          "metadata": {
            "tags": []
          },
          "execution_count": 238
        }
      ]
    },
    {
      "cell_type": "code",
      "metadata": {
        "id": "QeZTeVJUu6jT",
        "colab_type": "code",
        "outputId": "e4b1a165-c182-4059-d615-36b4904f9f30",
        "colab": {
          "base_uri": "https://localhost:8080/",
          "height": 84
        }
      },
      "source": [
        "## stops have no null values,\n",
        "## most of the values are of zeros and least values are of 2\n",
        "\n",
        "df['stops'].value_counts()"
      ],
      "execution_count": 239,
      "outputs": [
        {
          "output_type": "execute_result",
          "data": {
            "text/plain": [
              "0    152411\n",
              "1      1082\n",
              "2        14\n",
              "Name: stops, dtype: int64"
            ]
          },
          "metadata": {
            "tags": []
          },
          "execution_count": 239
        }
      ]
    },
    {
      "cell_type": "code",
      "metadata": {
        "id": "spwwqThlXLLw",
        "colab_type": "code",
        "outputId": "52fa6d77-1f60-4fa0-955a-8df626d93c23",
        "colab": {
          "base_uri": "https://localhost:8080/",
          "height": 67
        }
      },
      "source": [
        "## no null value and just 9 False and remaining are true\n",
        "\n",
        "df['eticketable'].value_counts()"
      ],
      "execution_count": 240,
      "outputs": [
        {
          "output_type": "execute_result",
          "data": {
            "text/plain": [
              "True     153498\n",
              "False         9\n",
              "Name: eticketable, dtype: int64"
            ]
          },
          "metadata": {
            "tags": []
          },
          "execution_count": 240
        }
      ]
    },
    {
      "cell_type": "code",
      "metadata": {
        "id": "0qfdHLJ-XciH",
        "colab_type": "code",
        "outputId": "2b469d5a-b77b-4c7f-a2fa-ad9006199ade",
        "colab": {
          "base_uri": "https://localhost:8080/",
          "height": 218
        }
      },
      "source": [
        "## no null value\n",
        "## most of the airports from where flights arrived and least ones as well\n",
        "df['arrival_aiport'].value_counts()"
      ],
      "execution_count": 241,
      "outputs": [
        {
          "output_type": "execute_result",
          "data": {
            "text/plain": [
              "LAX    13094\n",
              "ORD     7804\n",
              "BOS     7308\n",
              "DFW     6701\n",
              "ATL     6359\n",
              "       ...  \n",
              "PCT        1\n",
              "OLM        1\n",
              "CUR        1\n",
              "LKP        1\n",
              "RKD        1\n",
              "Name: arrival_aiport, Length: 678, dtype: int64"
            ]
          },
          "metadata": {
            "tags": []
          },
          "execution_count": 241
        }
      ]
    },
    {
      "cell_type": "markdown",
      "metadata": {
        "id": "42vWlzhPocxe",
        "colab_type": "text"
      },
      "source": [
        "\n",
        "\n",
        "\n",
        "Most of the flights are destined to these airports\n",
        "\n",
        "- QYC  ()\n",
        "- LAX  (LOS ANGELES INTERNATIONAL AIRPORT)\n",
        "- CHI  ()\n",
        "- BOS  (LOGAN INTERNATIONAL AIRPORT)\n",
        "- QDF\n",
        "\n",
        "and least of flights are destined to these airports\n",
        "\n",
        "- STR  ()\n",
        "- DOV  ()\n",
        "- VCE  ()\n",
        "- CUR  ()\n",
        "- BLM  ()"
      ]
    },
    {
      "cell_type": "code",
      "metadata": {
        "id": "vIJYecQ_gi4X",
        "colab_type": "code",
        "outputId": "7e9f678e-1d24-4547-8a65-0de0c3099041",
        "colab": {
          "base_uri": "https://localhost:8080/",
          "height": 218
        }
      },
      "source": [
        "df['arrival_city'].value_counts()"
      ],
      "execution_count": 242,
      "outputs": [
        {
          "output_type": "execute_result",
          "data": {
            "text/plain": [
              "QYC    11970\n",
              "LAX    11575\n",
              "CHI     7812\n",
              "BOS     7329\n",
              "QDF     6665\n",
              "       ...  \n",
              "STR        1\n",
              "DOV        1\n",
              "VCE        1\n",
              "CUR        1\n",
              "BLM        1\n",
              "Name: arrival_city, Length: 604, dtype: int64"
            ]
          },
          "metadata": {
            "tags": []
          },
          "execution_count": 242
        }
      ]
    },
    {
      "cell_type": "code",
      "metadata": {
        "id": "HIrlzrM8ip5v",
        "colab_type": "code",
        "colab": {}
      },
      "source": [
        "df['arrival_time'] = pd.to_datetime(df['arrival_time'])\n",
        "df['arrival_hour'] = df['arrival_time'].dt.hour\n",
        "df['arrival_minute'] = df['arrival_time'].dt.minute"
      ],
      "execution_count": 0,
      "outputs": []
    },
    {
      "cell_type": "code",
      "metadata": {
        "id": "IGZ8R-Bqi1Ev",
        "colab_type": "code",
        "outputId": "17b9c56d-b66f-4e3b-86e7-37c38a0d28e9",
        "colab": {
          "base_uri": "https://localhost:8080/",
          "height": 431
        }
      },
      "source": [
        "plt.figure(figsize = (10, 7))\n",
        "df['arrival_hour'].value_counts().plot(kind = 'bar')\n",
        "plt.show()"
      ],
      "execution_count": 244,
      "outputs": [
        {
          "output_type": "display_data",
          "data": {
            "image/png": "[encoded data removed]",
            "text/plain": [
              "<Figure size 720x504 with 1 Axes>"
            ]
          },
          "metadata": {
            "tags": []
          }
        }
      ]
    },
    {
      "cell_type": "markdown",
      "metadata": {
        "id": "MOz7ErxYsZCb",
        "colab_type": "text"
      },
      "source": [
        "From figure it looks like that most of the flights arrived at the destination airports as:\n",
        "\n",
        "- there is less arrival flights from midnight to about 7 AM\n",
        "- the highest traffic is between 10:00 to 19:00"
      ]
    },
    {
      "cell_type": "code",
      "metadata": {
        "id": "Q0s103FIi75x",
        "colab_type": "code",
        "outputId": "6137743b-718f-4fbc-ab2f-df7445690e60",
        "colab": {
          "base_uri": "https://localhost:8080/",
          "height": 447
        }
      },
      "source": [
        "plt.figure(figsize = (10, 7))\n",
        "df['arrival_timezoneOffset'].value_counts().plot(kind = 'bar')\n",
        "plt.show()"
      ],
      "execution_count": 245,
      "outputs": [
        {
          "output_type": "display_data",
          "data": {
            "image/png": "[encoded data removed]",
            "text/plain": [
              "<Figure size 720x504 with 1 Axes>"
            ]
          },
          "metadata": {
            "tags": []
          }
        }
      ]
    },
    {
      "cell_type": "code",
      "metadata": {
        "id": "_WPYLikcuwXn",
        "colab_type": "code",
        "outputId": "775dfb06-d364-412c-f97a-1ed42b725d24",
        "colab": {
          "base_uri": "https://localhost:8080/",
          "height": 218
        }
      },
      "source": [
        "df['departure_airport'].value_counts()"
      ],
      "execution_count": 246,
      "outputs": [
        {
          "output_type": "execute_result",
          "data": {
            "text/plain": [
              "LAX    12406\n",
              "BOS     8110\n",
              "ORD     7777\n",
              "DFW     6595\n",
              "ATL     6396\n",
              "       ...  \n",
              "CUR        1\n",
              "PRG        1\n",
              "ZPH        1\n",
              "PWK        1\n",
              "LAL        1\n",
              "Name: departure_airport, Length: 676, dtype: int64"
            ]
          },
          "metadata": {
            "tags": []
          },
          "execution_count": 246
        }
      ]
    },
    {
      "cell_type": "markdown",
      "metadata": {
        "id": "aubX6sRJvTxg",
        "colab_type": "text"
      },
      "source": [
        "\n",
        "\n",
        "\n",
        "Most of the flights are departed from these airports\n",
        "\n",
        "- LAX  (LOS ANGELES INTERNATIONAL AIRPORT)\n",
        "- BOS  (LOGAN INTERNATIONAL AIRPORT)\n",
        "- ORD\n",
        "- DFW\n",
        "- ATL\n",
        "\n",
        "and least of flights are departed from these airports\n",
        "\n",
        "- CUR  ()\n",
        "- PRG  ()\n",
        "- ZPH  ()\n",
        "- PWK  ()\n",
        "- LAL  ()"
      ]
    },
    {
      "cell_type": "code",
      "metadata": {
        "id": "ij4ncQjAYwzc",
        "colab_type": "code",
        "outputId": "387c57a7-2ce5-4359-9ee7-71b18dc907cd",
        "colab": {
          "base_uri": "https://localhost:8080/",
          "height": 218
        }
      },
      "source": [
        "df['departure_city'].value_counts()"
      ],
      "execution_count": 247,
      "outputs": [
        {
          "output_type": "execute_result",
          "data": {
            "text/plain": [
              "QYC    12059\n",
              "LAX    10949\n",
              "BOS     8134\n",
              "CHI     7788\n",
              "QDF     6557\n",
              "       ...  \n",
              "HRO        1\n",
              "PRG        1\n",
              "LAL        1\n",
              "RKD        1\n",
              "LBB        1\n",
              "Name: departure_city, Length: 604, dtype: int64"
            ]
          },
          "metadata": {
            "tags": []
          },
          "execution_count": 247
        }
      ]
    },
    {
      "cell_type": "code",
      "metadata": {
        "id": "c3Gcqx3jZ0OO",
        "colab_type": "code",
        "colab": {}
      },
      "source": [
        "df['departure_time'] = pd.to_datetime(df['departure_time'])\n",
        "df['departure_hour'] = df['departure_time'].dt.hour\n",
        "df['departure_minute'] = df['departure_time'].dt.minute"
      ],
      "execution_count": 0,
      "outputs": []
    },
    {
      "cell_type": "code",
      "metadata": {
        "id": "SbnNJPLwanXt",
        "colab_type": "code",
        "outputId": "b1d4594f-22d7-4ea4-f395-3f1cb60f6252",
        "colab": {
          "base_uri": "https://localhost:8080/",
          "height": 431
        }
      },
      "source": [
        "plt.figure(figsize = (10, 7))\n",
        "df['departure_hour'].value_counts().plot(kind = 'bar')\n",
        "plt.show()"
      ],
      "execution_count": 249,
      "outputs": [
        {
          "output_type": "display_data",
          "data": {
            "image/png": "[encoded data removed]",
            "text/plain": [
              "<Figure size 720x504 with 1 Axes>"
            ]
          },
          "metadata": {
            "tags": []
          }
        }
      ]
    },
    {
      "cell_type": "code",
      "metadata": {
        "id": "A1ppWxI2bEOQ",
        "colab_type": "code",
        "outputId": "562eeb37-9311-4186-d01b-07512ad48833",
        "colab": {
          "base_uri": "https://localhost:8080/",
          "height": 447
        }
      },
      "source": [
        "plt.figure(figsize = (10, 7))\n",
        "df['departure_timezoneOffset'].value_counts().plot(kind = 'bar')\n",
        "plt.show()"
      ],
      "execution_count": 250,
      "outputs": [
        {
          "output_type": "display_data",
          "data": {
            "image/png": "[encoded data removed]",
            "text/plain": [
              "<Figure size 720x504 with 1 Axes>"
            ]
          },
          "metadata": {
            "tags": []
          }
        }
      ]
    },
    {
      "cell_type": "code",
      "metadata": {
        "id": "nLrDGZzBbgoV",
        "colab_type": "code",
        "outputId": "141e9915-d7c0-49c9-ab4e-df12fa3213bc",
        "colab": {
          "base_uri": "https://localhost:8080/",
          "height": 218
        }
      },
      "source": [
        "df['carrier_marketing'].value_counts()"
      ],
      "execution_count": 251,
      "outputs": [
        {
          "output_type": "execute_result",
          "data": {
            "text/plain": [
              "AA    37673\n",
              "UA    23967\n",
              "DL    15170\n",
              "AS    11879\n",
              "O2     9588\n",
              "      ...  \n",
              "TA        1\n",
              "7C        1\n",
              "B7        1\n",
              "JQ        1\n",
              "EW        1\n",
              "Name: carrier_marketing, Length: 114, dtype: int64"
            ]
          },
          "metadata": {
            "tags": []
          },
          "execution_count": 251
        }
      ]
    },
    {
      "cell_type": "code",
      "metadata": {
        "id": "D8xT8GqGcbSJ",
        "colab_type": "code",
        "outputId": "9bbe7792-b61e-49fe-f6ad-b53f5929c1ad",
        "colab": {
          "base_uri": "https://localhost:8080/",
          "height": 218
        }
      },
      "source": [
        "df['carrier_operating'].value_counts()"
      ],
      "execution_count": 252,
      "outputs": [
        {
          "output_type": "execute_result",
          "data": {
            "text/plain": [
              "AA    40340\n",
              "UA    24550\n",
              "DL    17287\n",
              "AS    11400\n",
              "O2     9588\n",
              "      ...  \n",
              "TA        1\n",
              "7C        1\n",
              "B7        1\n",
              "LJ        1\n",
              "OD        1\n",
              "Name: carrier_operating, Length: 152, dtype: int64"
            ]
          },
          "metadata": {
            "tags": []
          },
          "execution_count": 252
        }
      ]
    },
    {
      "cell_type": "code",
      "metadata": {
        "id": "-GBPIukrcvwW",
        "colab_type": "code",
        "outputId": "bc3a9e9b-e062-4f69-ceb0-bbd2eca23903",
        "colab": {
          "base_uri": "https://localhost:8080/",
          "height": 252
        }
      },
      "source": [
        "print(df['carrier_codeShared'].value_counts())\n",
        "print()\n",
        "print('Null values: ', df['carrier_codeShared'].isna().sum())"
      ],
      "execution_count": 253,
      "outputs": [
        {
          "output_type": "stream",
          "text": [
            "AIRLINE 8ZMA365P AS LINEAR AIR TAXI       3280\n",
            "/HORIZON AIR AS ALASKAHORIZON             1570\n",
            "/SKYWEST DBA UNITED EXPRESS               1236\n",
            "REPUBLIC AIRWAYS AS AMERICAN EAGLE        1196\n",
            "/REPUBLIC AIRLINES DBA UNITED EXPRESS     1129\n",
            "                                          ... \n",
            "/CITYHOPPER                                  1\n",
            "/LGW LUFTFAHRTGES WALTER FOR EUROWINGS       1\n",
            "AIRLINE IICA001F AS LINEAR AIR TAXI          1\n",
            "AIRLINE OW6A318J AS LINEAR AIR TAXI          1\n",
            "AIRLINE IKJA031F AS LINEAR AIR TAXI          1\n",
            "Name: carrier_codeShared, Length: 255, dtype: int64\n",
            "\n",
            "Null values:  127793\n"
          ],
          "name": "stdout"
        }
      ]
    },
    {
      "cell_type": "code",
      "metadata": {
        "id": "C-uqHI9jc1Kw",
        "colab_type": "code",
        "outputId": "cd3c3f0a-3731-4cac-c505-67900267ab31",
        "colab": {
          "base_uri": "https://localhost:8080/",
          "height": 218
        }
      },
      "source": [
        "df['carrier_marketingFlightNumber'].value_counts()"
      ],
      "execution_count": 254,
      "outputs": [
        {
          "output_type": "execute_result",
          "data": {
            "text/plain": [
              "403     183\n",
              "775     181\n",
              "7       180\n",
              "6       176\n",
              "770     176\n",
              "       ... \n",
              "3340      1\n",
              "5835      1\n",
              "4518      1\n",
              "8480      1\n",
              "3382      1\n",
              "Name: carrier_marketingFlightNumber, Length: 8187, dtype: int64"
            ]
          },
          "metadata": {
            "tags": []
          },
          "execution_count": 254
        }
      ]
    },
    {
      "cell_type": "code",
      "metadata": {
        "id": "kzTKIobKeM_a",
        "colab_type": "code",
        "outputId": "496d0171-fd28-4f0f-e117-35fd6d881741",
        "colab": {
          "base_uri": "https://localhost:8080/",
          "height": 218
        }
      },
      "source": [
        "df['carrier_operatingFlightNumber'].value_counts()"
      ],
      "execution_count": 255,
      "outputs": [
        {
          "output_type": "execute_result",
          "data": {
            "text/plain": [
              "69      231\n",
              "7       220\n",
              "106     218\n",
              "6       208\n",
              "66      200\n",
              "       ... \n",
              "4844      1\n",
              "6327      1\n",
              "8775      1\n",
              "6367      1\n",
              "2837      1\n",
              "Name: carrier_operatingFlightNumber, Length: 6599, dtype: int64"
            ]
          },
          "metadata": {
            "tags": []
          },
          "execution_count": 255
        }
      ]
    },
    {
      "cell_type": "code",
      "metadata": {
        "id": "9yPnaBXWeTak",
        "colab_type": "code",
        "outputId": "3ff97d9a-238a-4097-c2fa-efa877fab514",
        "colab": {
          "base_uri": "https://localhost:8080/",
          "height": 84
        }
      },
      "source": [
        "df['pricing_subSource'].value_counts()"
      ],
      "execution_count": 256,
      "outputs": [
        {
          "output_type": "execute_result",
          "data": {
            "text/plain": [
              "MIP     120825\n",
              "BCH      30832\n",
              "HPIS      1850\n",
              "Name: pricing_subSource, dtype: int64"
            ]
          },
          "metadata": {
            "tags": []
          },
          "execution_count": 256
        }
      ]
    },
    {
      "cell_type": "code",
      "metadata": {
        "id": "GAdA88-oeqLf",
        "colab_type": "code",
        "outputId": "65975f46-0610-4463-806d-81d640bc84ce",
        "colab": {
          "base_uri": "https://localhost:8080/",
          "height": 67
        }
      },
      "source": [
        "df['passenger_group'].value_counts()"
      ],
      "execution_count": 257,
      "outputs": [
        {
          "output_type": "execute_result",
          "data": {
            "text/plain": [
              "0    153478\n",
              "1        29\n",
              "Name: passenger_group, dtype: int64"
            ]
          },
          "metadata": {
            "tags": []
          },
          "execution_count": 257
        }
      ]
    },
    {
      "cell_type": "code",
      "metadata": {
        "id": "i7jrNXspfEF_",
        "colab_type": "code",
        "outputId": "b3d53622-7ab4-4b79-c7a5-c09fdba99931",
        "colab": {
          "base_uri": "https://localhost:8080/",
          "height": 67
        }
      },
      "source": [
        "df['passenger_nonRefundable'].value_counts()"
      ],
      "execution_count": 258,
      "outputs": [
        {
          "output_type": "execute_result",
          "data": {
            "text/plain": [
              "True     136571\n",
              "False     16936\n",
              "Name: passenger_nonRefundable, dtype: int64"
            ]
          },
          "metadata": {
            "tags": []
          },
          "execution_count": 258
        }
      ]
    },
    {
      "cell_type": "code",
      "metadata": {
        "id": "JFCExZoRfLXr",
        "colab_type": "code",
        "outputId": "48258a93-3294-4b63-8243-21b4721d2676",
        "colab": {
          "base_uri": "https://localhost:8080/",
          "height": 218
        }
      },
      "source": [
        "df['total_price'].value_counts()"
      ],
      "execution_count": 259,
      "outputs": [
        {
          "output_type": "execute_result",
          "data": {
            "text/plain": [
              "6751.32    941\n",
              "6755.82    742\n",
              "136.59     519\n",
              "228.00     397\n",
              "225.30     389\n",
              "          ... \n",
              "507.97       1\n",
              "1286.35      1\n",
              "759.14       1\n",
              "1400.26      1\n",
              "661.30       1\n",
              "Name: total_price, Length: 20164, dtype: int64"
            ]
          },
          "metadata": {
            "tags": []
          },
          "execution_count": 259
        }
      ]
    },
    {
      "cell_type": "code",
      "metadata": {
        "id": "NczQ72RpfWSp",
        "colab_type": "code",
        "outputId": "f065e034-29bc-43dc-986f-0bad5ca80466",
        "colab": {
          "base_uri": "https://localhost:8080/",
          "height": 218
        }
      },
      "source": [
        "df['total_taxes'].value_counts()"
      ],
      "execution_count": 260,
      "outputs": [
        {
          "output_type": "execute_result",
          "data": {
            "text/plain": [
              "9.00      2602\n",
              "18.00     2094\n",
              "13.50     2037\n",
              "278.85    1349\n",
              "66.40      721\n",
              "          ... \n",
              "96.89        1\n",
              "488.35       1\n",
              "132.24       1\n",
              "769.05       1\n",
              "457.43       1\n",
              "Name: total_taxes, Length: 8870, dtype: int64"
            ]
          },
          "metadata": {
            "tags": []
          },
          "execution_count": 260
        }
      ]
    },
    {
      "cell_type": "code",
      "metadata": {
        "id": "jJQNcy8Gfzty",
        "colab_type": "code",
        "outputId": "e02d7993-2e82-43d4-bcd3-825b751f2bf3",
        "colab": {
          "base_uri": "https://localhost:8080/",
          "height": 428
        }
      },
      "source": [
        "plt.figure(figsize = (10, 7))\n",
        "df['booking_code'].value_counts().plot(kind = 'bar')\n",
        "plt.show()"
      ],
      "execution_count": 261,
      "outputs": [
        {
          "output_type": "display_data",
          "data": {
            "image/png": "[encoded data removed]",
            "text/plain": [
              "<Figure size 720x504 with 1 Axes>"
            ]
          },
          "metadata": {
            "tags": []
          }
        }
      ]
    },
    {
      "cell_type": "code",
      "metadata": {
        "id": "zYmSVrTaf6fS",
        "colab_type": "code",
        "outputId": "8871a0fd-aa2b-4566-eab5-50549b84e541",
        "colab": {
          "base_uri": "https://localhost:8080/",
          "height": 101
        }
      },
      "source": [
        "df['cabin_code'].value_counts()"
      ],
      "execution_count": 262,
      "outputs": [
        {
          "output_type": "execute_result",
          "data": {
            "text/plain": [
              "Y    153029\n",
              "S       291\n",
              "C       105\n",
              "F        82\n",
              "Name: cabin_code, dtype: int64"
            ]
          },
          "metadata": {
            "tags": []
          },
          "execution_count": 262
        }
      ]
    },
    {
      "cell_type": "code",
      "metadata": {
        "id": "eRKgc8KMgCky",
        "colab_type": "code",
        "outputId": "dee82535-b100-4022-b4c8-4cf907025311",
        "colab": {
          "base_uri": "https://localhost:8080/",
          "height": 202
        }
      },
      "source": [
        "df['seats_available'].value_counts()"
      ],
      "execution_count": 263,
      "outputs": [
        {
          "output_type": "execute_result",
          "data": {
            "text/plain": [
              "9    92521\n",
              "7    24149\n",
              "4    16475\n",
              "1     4692\n",
              "2     4323\n",
              "3     3529\n",
              "6     2976\n",
              "5     2728\n",
              "8     2111\n",
              "0        3\n",
              "Name: seats_available, dtype: int64"
            ]
          },
          "metadata": {
            "tags": []
          },
          "execution_count": 263
        }
      ]
    },
    {
      "cell_type": "code",
      "metadata": {
        "id": "3A3gMeYwgRjh",
        "colab_type": "code",
        "outputId": "17ad8d89-4686-4433-b729-aa51cee119d0",
        "colab": {
          "base_uri": "https://localhost:8080/",
          "height": 67
        }
      },
      "source": [
        "df['availablity_break'].value_counts()"
      ],
      "execution_count": 264,
      "outputs": [
        {
          "output_type": "execute_result",
          "data": {
            "text/plain": [
              "False    89536\n",
              "True     63971\n",
              "Name: availablity_break, dtype: int64"
            ]
          },
          "metadata": {
            "tags": []
          },
          "execution_count": 264
        }
      ]
    },
    {
      "cell_type": "code",
      "metadata": {
        "id": "-7ujuPANgVpO",
        "colab_type": "code",
        "outputId": "580206b9-389f-4701-c61c-2a7f52bb1cbd",
        "colab": {
          "base_uri": "https://localhost:8080/",
          "height": 672
        }
      },
      "source": [
        "df.isna().sum()"
      ],
      "execution_count": 265,
      "outputs": [
        {
          "output_type": "execute_result",
          "data": {
            "text/plain": [
              "schedule_id                           0\n",
              "stops                                 0\n",
              "eticketable                           0\n",
              "departure_airport                     0\n",
              "departure_city                        0\n",
              "departure_time                        0\n",
              "departure_timezoneOffset              0\n",
              "arrival_aiport                        0\n",
              "arrival_city                          0\n",
              "arrival_time                          0\n",
              "arrival_dateAdjustment                0\n",
              "arrival_timezoneOffset                0\n",
              "carrier_marketing                     0\n",
              "carrier_operating                     0\n",
              "carrier_codeShared               127793\n",
              "carrier_operatingFlightNumber         0\n",
              "carrier_marketingFlightNumber         0\n",
              "equipment_code                        0\n",
              "equipment_change                      0\n",
              "pricing_subSource                     0\n",
              "PoSCountryCode                        0\n",
              "passenger_group                       0\n",
              "passenger_type                        0\n",
              "passenger_number                      0\n",
              "passenger_nonRefundable               0\n",
              "total_price                           0\n",
              "total_taxes                           0\n",
              "currency                              0\n",
              "departure_date                   147809\n",
              "return_date                      147809\n",
              "booking_code                          0\n",
              "cabin_code                            0\n",
              "seats_available                       0\n",
              "availablity_break                     0\n",
              "arrival_hour                          0\n",
              "arrival_minute                        0\n",
              "departure_hour                        0\n",
              "departure_minute                      0\n",
              "dtype: int64"
            ]
          },
          "metadata": {
            "tags": []
          },
          "execution_count": 265
        }
      ]
    },
    {
      "cell_type": "code",
      "metadata": {
        "id": "OUnDWgFZEOVr",
        "colab_type": "code",
        "outputId": "58e596bf-66a8-4bc3-fc27-a69926a800d9",
        "colab": {
          "base_uri": "https://localhost:8080/",
          "height": 304
        }
      },
      "source": [
        "df.describe()"
      ],
      "execution_count": 266,
      "outputs": [
        {
          "output_type": "execute_result",
          "data": {
            "text/html": [
              "<div>\n",
              "<style scoped>\n",
              "    .dataframe tbody tr th:only-of-type {\n",
              "        vertical-align: middle;\n",
              "    }\n",
              "\n",
              "    .dataframe tbody tr th {\n",
              "        vertical-align: top;\n",
              "    }\n",
              "\n",
              "    .dataframe thead th {\n",
              "        text-align: right;\n",
              "    }\n",
              "</style>\n",
              "<table border=\"1\" class=\"dataframe\">\n",
              "  <thead>\n",
              "    <tr style=\"text-align: right;\">\n",
              "      <th></th>\n",
              "      <th>schedule_id</th>\n",
              "      <th>stops</th>\n",
              "      <th>arrival_dateAdjustment</th>\n",
              "      <th>carrier_operatingFlightNumber</th>\n",
              "      <th>carrier_marketingFlightNumber</th>\n",
              "      <th>passenger_group</th>\n",
              "      <th>passenger_number</th>\n",
              "      <th>total_price</th>\n",
              "      <th>total_taxes</th>\n",
              "      <th>seats_available</th>\n",
              "      <th>arrival_hour</th>\n",
              "      <th>arrival_minute</th>\n",
              "      <th>departure_hour</th>\n",
              "      <th>departure_minute</th>\n",
              "    </tr>\n",
              "  </thead>\n",
              "  <tbody>\n",
              "    <tr>\n",
              "      <th>count</th>\n",
              "      <td>153507.000000</td>\n",
              "      <td>153507.000000</td>\n",
              "      <td>153507.000000</td>\n",
              "      <td>153507.000000</td>\n",
              "      <td>153507.000000</td>\n",
              "      <td>153507.000000</td>\n",
              "      <td>153507.0</td>\n",
              "      <td>153507.000000</td>\n",
              "      <td>153507.000000</td>\n",
              "      <td>153507.000000</td>\n",
              "      <td>153507.000000</td>\n",
              "      <td>153507.000000</td>\n",
              "      <td>153507.000000</td>\n",
              "      <td>153507.000000</td>\n",
              "    </tr>\n",
              "    <tr>\n",
              "      <th>mean</th>\n",
              "      <td>46.935710</td>\n",
              "      <td>0.007231</td>\n",
              "      <td>0.102262</td>\n",
              "      <td>1696.824972</td>\n",
              "      <td>2160.695395</td>\n",
              "      <td>0.000189</td>\n",
              "      <td>1.0</td>\n",
              "      <td>1277.186799</td>\n",
              "      <td>179.200249</td>\n",
              "      <td>7.425987</td>\n",
              "      <td>13.985343</td>\n",
              "      <td>29.395819</td>\n",
              "      <td>13.102184</td>\n",
              "      <td>26.313367</td>\n",
              "    </tr>\n",
              "    <tr>\n",
              "      <th>std</th>\n",
              "      <td>37.639566</td>\n",
              "      <td>0.085797</td>\n",
              "      <td>0.315259</td>\n",
              "      <td>1654.778010</td>\n",
              "      <td>2094.306447</td>\n",
              "      <td>0.013743</td>\n",
              "      <td>0.0</td>\n",
              "      <td>15674.608653</td>\n",
              "      <td>1954.330290</td>\n",
              "      <td>2.339391</td>\n",
              "      <td>5.218808</td>\n",
              "      <td>17.520490</td>\n",
              "      <td>5.013497</td>\n",
              "      <td>18.033036</td>\n",
              "    </tr>\n",
              "    <tr>\n",
              "      <th>min</th>\n",
              "      <td>1.000000</td>\n",
              "      <td>0.000000</td>\n",
              "      <td>-1.000000</td>\n",
              "      <td>1.000000</td>\n",
              "      <td>1.000000</td>\n",
              "      <td>0.000000</td>\n",
              "      <td>1.0</td>\n",
              "      <td>66.590000</td>\n",
              "      <td>0.000000</td>\n",
              "      <td>0.000000</td>\n",
              "      <td>0.000000</td>\n",
              "      <td>0.000000</td>\n",
              "      <td>0.000000</td>\n",
              "      <td>0.000000</td>\n",
              "    </tr>\n",
              "    <tr>\n",
              "      <th>25%</th>\n",
              "      <td>18.000000</td>\n",
              "      <td>0.000000</td>\n",
              "      <td>0.000000</td>\n",
              "      <td>515.000000</td>\n",
              "      <td>653.000000</td>\n",
              "      <td>0.000000</td>\n",
              "      <td>1.0</td>\n",
              "      <td>292.580000</td>\n",
              "      <td>55.420000</td>\n",
              "      <td>7.000000</td>\n",
              "      <td>10.000000</td>\n",
              "      <td>15.000000</td>\n",
              "      <td>9.000000</td>\n",
              "      <td>10.000000</td>\n",
              "    </tr>\n",
              "    <tr>\n",
              "      <th>50%</th>\n",
              "      <td>39.000000</td>\n",
              "      <td>0.000000</td>\n",
              "      <td>0.000000</td>\n",
              "      <td>1269.000000</td>\n",
              "      <td>1615.000000</td>\n",
              "      <td>0.000000</td>\n",
              "      <td>1.0</td>\n",
              "      <td>460.990000</td>\n",
              "      <td>69.150000</td>\n",
              "      <td>9.000000</td>\n",
              "      <td>14.000000</td>\n",
              "      <td>30.000000</td>\n",
              "      <td>13.000000</td>\n",
              "      <td>27.000000</td>\n",
              "    </tr>\n",
              "    <tr>\n",
              "      <th>75%</th>\n",
              "      <td>67.000000</td>\n",
              "      <td>0.000000</td>\n",
              "      <td>0.000000</td>\n",
              "      <td>2239.000000</td>\n",
              "      <td>2625.000000</td>\n",
              "      <td>0.000000</td>\n",
              "      <td>1.0</td>\n",
              "      <td>747.560000</td>\n",
              "      <td>151.150000</td>\n",
              "      <td>9.000000</td>\n",
              "      <td>18.000000</td>\n",
              "      <td>45.000000</td>\n",
              "      <td>17.000000</td>\n",
              "      <td>40.000000</td>\n",
              "    </tr>\n",
              "    <tr>\n",
              "      <th>max</th>\n",
              "      <td>388.000000</td>\n",
              "      <td>2.000000</td>\n",
              "      <td>2.000000</td>\n",
              "      <td>9819.000000</td>\n",
              "      <td>9977.000000</td>\n",
              "      <td>1.000000</td>\n",
              "      <td>1.0</td>\n",
              "      <td>960000.000000</td>\n",
              "      <td>121200.000000</td>\n",
              "      <td>9.000000</td>\n",
              "      <td>23.000000</td>\n",
              "      <td>59.000000</td>\n",
              "      <td>23.000000</td>\n",
              "      <td>59.000000</td>\n",
              "    </tr>\n",
              "  </tbody>\n",
              "</table>\n",
              "</div>"
            ],
            "text/plain": [
              "         schedule_id          stops  ...  departure_hour  departure_minute\n",
              "count  153507.000000  153507.000000  ...   153507.000000     153507.000000\n",
              "mean       46.935710       0.007231  ...       13.102184         26.313367\n",
              "std        37.639566       0.085797  ...        5.013497         18.033036\n",
              "min         1.000000       0.000000  ...        0.000000          0.000000\n",
              "25%        18.000000       0.000000  ...        9.000000         10.000000\n",
              "50%        39.000000       0.000000  ...       13.000000         27.000000\n",
              "75%        67.000000       0.000000  ...       17.000000         40.000000\n",
              "max       388.000000       2.000000  ...       23.000000         59.000000\n",
              "\n",
              "[8 rows x 14 columns]"
            ]
          },
          "metadata": {
            "tags": []
          },
          "execution_count": 266
        }
      ]
    },
    {
      "cell_type": "markdown",
      "metadata": {
        "id": "ZjmuxIgmEgBx",
        "colab_type": "text"
      },
      "source": [
        "From above statistics of price, the minimum price of the ticket is $66 and maximum value is 960000\n",
        "\n",
        "so there may be oultiers as well and data is not distrubted normally, now to see let's plot"
      ]
    },
    {
      "cell_type": "code",
      "metadata": {
        "id": "rULW9HCZQSyl",
        "colab_type": "code",
        "outputId": "2760d1ab-1c25-4e78-8653-f6749fe7cf30",
        "colab": {
          "base_uri": "https://localhost:8080/",
          "height": 322
        }
      },
      "source": [
        "plt.figure(figsize = (7, 5))\n",
        "plt.hist(df['total_price'].values, bins = 10)\n",
        "plt.show()"
      ],
      "execution_count": 267,
      "outputs": [
        {
          "output_type": "display_data",
          "data": {
            "image/png": "[encoded data removed]",
            "text/plain": [
              "<Figure size 504x360 with 1 Axes>"
            ]
          },
          "metadata": {
            "tags": []
          }
        }
      ]
    },
    {
      "cell_type": "code",
      "metadata": {
        "id": "v6OTTfUu04Mn",
        "colab_type": "code",
        "outputId": "c28219d2-e12e-46ea-d46f-221961d48625",
        "colab": {
          "base_uri": "https://localhost:8080/",
          "height": 320
        }
      },
      "source": [
        "plt.figure(figsize = (7, 5))\n",
        "df['log_price'] = np.log(df['total_price'].values + 1)\n",
        "plt.hist(df['log_price'].values, bins=100)\n",
        "plt.show()"
      ],
      "execution_count": 268,
      "outputs": [
        {
          "output_type": "display_data",
          "data": {
            "image/png": "[encoded data removed]",
            "text/plain": [
              "<Figure size 504x360 with 1 Axes>"
            ]
          },
          "metadata": {
            "tags": []
          }
        }
      ]
    },
    {
      "cell_type": "code",
      "metadata": {
        "id": "eWrZIC35FmV6",
        "colab_type": "code",
        "colab": {}
      },
      "source": [
        ""
      ],
      "execution_count": 0,
      "outputs": []
    }
  ]
}