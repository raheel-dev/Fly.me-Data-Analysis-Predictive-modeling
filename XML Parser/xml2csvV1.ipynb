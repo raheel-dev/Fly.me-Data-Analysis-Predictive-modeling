{
  "nbformat": 4,
  "nbformat_minor": 0,
  "metadata": {
    "colab": {
      "name": "xml2csvV1.ipynb",
      "provenance": [],
      "collapsed_sections": []
    },
    "kernelspec": {
      "name": "python3",
      "display_name": "Python 3"
    }
  },
  "cells": [
    {
      "cell_type": "code",
      "metadata": {
        "id": "9Oj-ggjQIScg",
        "colab_type": "code",
        "outputId": "9126efe6-ba33-4f47-9854-1d61f62f09a0",
        "colab": {
          "base_uri": "https://localhost:8080/",
          "height": 121
        }
      },
      "source": [
        "from google.colab import drive\n",
        "drive.mount('/content/drive')"
      ],
      "execution_count": 0,
      "outputs": [
        {
          "output_type": "stream",
          "text": [
            "Go to this URL in a browser: https://accounts.google.com/o/oauth2/auth?client_id=947318989803-6bn6qk8qdgf4n4g3pfee6491hc0brc4i.apps.googleusercontent.com&redirect_uri=urn%3aietf%3awg%3aoauth%3a2.0%3aoob&response_type=code&scope=email%20https%3a%2f%2fwww.googleapis.com%2fauth%2fdocs.test%20https%3a%2f%2fwww.googleapis.com%2fauth%2fdrive%20https%3a%2f%2fwww.googleapis.com%2fauth%2fdrive.photos.readonly%20https%3a%2f%2fwww.googleapis.com%2fauth%2fpeopleapi.readonly\n",
            "\n",
            "Enter your authorization code:\n",
            "··········\n",
            "Mounted at /content/drive\n"
          ],
          "name": "stdout"
        }
      ]
    },
    {
      "cell_type": "code",
      "metadata": {
        "id": "k0kQZfTAe_s4",
        "colab_type": "code",
        "colab": {}
      },
      "source": [
        "import lxml.etree as ET\n",
        "import pandas as pd\n",
        "import numpy as np\n",
        "import os\n",
        "import glob\n",
        "\n",
        "path = '/content/drive/My Drive/sabre-ingest/dataset'\n",
        "read_files = glob.glob(os.path.join(path, '*.xml'))"
      ],
      "execution_count": 0,
      "outputs": []
    },
    {
      "cell_type": "code",
      "metadata": {
        "id": "fzsEITW5POm3",
        "colab_type": "code",
        "colab": {}
      },
      "source": [
        "schedule_id, stops, eticketable, departure_airport, departure_city, departure_time, departure_timezoneOffset, \\\n",
        "arrival_aiport, arrival_city, arrival_time, arrival_timezoneOffset, arrival_dateAdjustment, carrier_marketing, \\\n",
        "carrier_operating, carrier_codeShared, carrier_operatingFlightNumber, carrier_marketingFlightNumber, \\\n",
        "equipment_code, equipment_change, departure_date, return_date, pricing_subSource, PoSCountryCode, \\\n",
        "passenger_group, passenger_type, passenger_number, passenger_nonRefundable, booking_code, \\\n",
        "cabin_code, seats_available, availablity_break, total_price, total_taxes, currency = ([] for i in range(34))\n",
        "\n",
        "for i in read_files:\n",
        "  for event, elem in ET.iterparse(i, events = ('start',), recover = True):\n",
        "    if elem.tag == 'ScheduleDesc':\n",
        "      schedule_id.append(elem.get('ID'))\n",
        "      stops.append(elem.get('Stops'))\n",
        "      eticketable.append(elem.get('ETicketable'))\n",
        "    elif elem.tag == 'Departure':\n",
        "      departure_airport.append(elem.get('Airport'))\n",
        "      departure_city.append(elem.get('City'))\n",
        "      departure_time.append(elem.get('Time')[:8])\n",
        "      departure_timezoneOffset.append(elem.get('Time')[9:])\n",
        "    elif elem.tag == 'Arrival':\n",
        "      arrival_aiport.append(elem.get('Airport'))\n",
        "      arrival_city.append(elem.get('City'))\n",
        "      arrival_time.append(elem.get('Time')[:8])\n",
        "      arrival_timezoneOffset.append(elem.get('Time')[9:])\n",
        "      arrival_dateAdjustment.append(elem.get('DateAdjustment'))\n",
        "    elif elem.tag == 'Carrier':\n",
        "      carrier_marketing.append(elem.get('Marketing'))\n",
        "      carrier_operating.append(elem.get('Operating'))\n",
        "      carrier_codeShared.append(elem.get('CodeShared'))\n",
        "      carrier_operatingFlightNumber.append(elem.get('OperatingFlightNumber'))\n",
        "      carrier_marketingFlightNumber.append(elem.get('MarketingFlightNumber'))\n",
        "    elif elem.tag == 'Equipment':\n",
        "      equipment_code.append(elem.get('Code'))\n",
        "      equipment_change.append(elem.get('Change'))\n",
        "    elif elem.tag == 'LegDescription':\n",
        "      departure_date.append(elem.get('DepartureDate'))\n",
        "    elif elem.tag == 'PricingInformation':\n",
        "      if len(pricing_subSource) < len(schedule_id):\n",
        "        pricing_subSource.append(elem.get('PricingSubsource'))\n",
        "        PoSCountryCode.append(elem.get('PoSCountryCode'))\n",
        "        passenger_group.append(elem.get('PassengerGroup'))\n",
        "    elif elem.tag == 'PassengerInfo':\n",
        "      if len(passenger_type) < len(schedule_id):  \n",
        "        passenger_type.append(elem.get('PassengerType'))\n",
        "        passenger_number.append(elem.get('PassengerNumber'))\n",
        "        passenger_nonRefundable.append(elem.get('NonRefundable'))\n",
        "    elif elem.tag == 'TotalFare':\n",
        "      if len(total_price) < len(schedule_id):\n",
        "        total_price.append(elem.get('TotalPrice'))\n",
        "        total_taxes.append(elem.get('TotalTaxes'))\n",
        "        currency.append(elem.get('Currency'))\n",
        "    elif elem.tag == 'Segment':\n",
        "      if len(booking_code) < len(passenger_number):\n",
        "        booking_code.append(elem.get('BookingCode'))\n",
        "        cabin_code.append(elem.get('CabinCode'))\n",
        "        seats_available.append(elem.get('SeatsAvailable'))\n",
        "        availablity_break.append(elem.get('AvailabilityBreak'))\n",
        "      elem.clear()\n",
        "\n"
      ],
      "execution_count": 0,
      "outputs": []
    },
    {
      "cell_type": "code",
      "metadata": {
        "id": "XHBPNZ8QFhkz",
        "colab_type": "code",
        "colab": {}
      },
      "source": [
        "# removing none values\n",
        "\n",
        "#booking_code = [i for i in booking_code if i]\n",
        "#cabin_code = [i for i in cabin_code if i]\n",
        "#seats_available = [i for i in seats_available if i]\n",
        "#availablity_break = [i for i in availablity_break if i]\n"
      ],
      "execution_count": 0,
      "outputs": []
    },
    {
      "cell_type": "code",
      "metadata": {
        "id": "iJqSObAfCGXy",
        "colab_type": "code",
        "colab": {}
      },
      "source": [
        "return_date = departure_date[1::2]\n",
        "departure_date = departure_date[::2]"
      ],
      "execution_count": 0,
      "outputs": []
    },
    {
      "cell_type": "code",
      "metadata": {
        "id": "Pd8I6UK2-7qO",
        "colab_type": "code",
        "colab": {}
      },
      "source": [
        "data_dict = {\n",
        "    'schedule_id': schedule_id, 'stops': stops, 'eticketable': eticketable,\n",
        "    'departure_airport': departure_airport, 'departure_city': departure_city,\n",
        "    'departure_time': departure_time, 'departure_timezoneOffset': departure_timezoneOffset,\n",
        "    'arrival_aiport': arrival_aiport, 'arrival_city': arrival_city, 'arrival_time': arrival_time,\n",
        "    'arrival_dateAdjustment': arrival_dateAdjustment, 'arrival_timezoneOffset': arrival_timezoneOffset,\n",
        "    'carrier_marketing': carrier_marketing, 'carrier_operating': carrier_operating,'carrier_codeShared': carrier_codeShared,\n",
        "    'carrier_operatingFlightNumber': carrier_operatingFlightNumber, 'carrier_marketingFlightNumber': carrier_marketingFlightNumber,\n",
        "    'equipment_code': equipment_code, 'equipment_change': equipment_change,\n",
        "    'pricing_subSource': pricing_subSource, 'PoSCountryCode': PoSCountryCode, 'passenger_group': passenger_group,\n",
        "    'passenger_type': passenger_type, 'passenger_number': passenger_number, 'passenger_nonRefundable': passenger_nonRefundable,\n",
        "    'total_price': total_price, 'total_taxes': total_taxes, 'currency': currency,\n",
        "    'departure_date': departure_date, 'return_date': return_date,\n",
        "    'booking_code': booking_code, 'cabin_code': cabin_code, 'seats_available': seats_available,\n",
        "    'availablity_break': availablity_break\n",
        "    }"
      ],
      "execution_count": 0,
      "outputs": []
    },
    {
      "cell_type": "code",
      "metadata": {
        "id": "0APAigDo72in",
        "colab_type": "code",
        "colab": {}
      },
      "source": [
        "df = pd.DataFrame.from_dict(data_dict, orient = 'index')"
      ],
      "execution_count": 0,
      "outputs": []
    },
    {
      "cell_type": "code",
      "metadata": {
        "id": "zyb53HGsKg-8",
        "colab_type": "code",
        "colab": {}
      },
      "source": [
        "df = df.transpose()"
      ],
      "execution_count": 0,
      "outputs": []
    },
    {
      "cell_type": "code",
      "metadata": {
        "id": "s-O02u0TOOk9",
        "colab_type": "code",
        "colab": {}
      },
      "source": [
        "df.to_csv('/content/drive/My Drive/sabre-ingest/sabre_ingest_data.csv')"
      ],
      "execution_count": 0,
      "outputs": []
    },
    {
      "cell_type": "code",
      "metadata": {
        "id": "SE_BnI5Nb7Ah",
        "colab_type": "code",
        "colab": {}
      },
      "source": [
        ""
      ],
      "execution_count": 0,
      "outputs": []
    }
  ]
}