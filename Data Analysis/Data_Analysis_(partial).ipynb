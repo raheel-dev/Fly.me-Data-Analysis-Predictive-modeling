{
  "nbformat": 4,
  "nbformat_minor": 0,
  "metadata": {
    "colab": {
      "name": "Data Analysis (partial).ipynb",
      "provenance": [],
      "collapsed_sections": []
    },
    "kernelspec": {
      "name": "python3",
      "display_name": "Python 3"
    }
  },
  "cells": [
    {
      "cell_type": "markdown",
      "metadata": {
        "id": "fxYelt3BPCrX",
        "colab_type": "text"
      },
      "source": [
        "## Introduction\n",
        "\n",
        "\n",
        "Sample data analysis and predictive modeling of flight price prediction for **Fly.me**"
      ]
    },
    {
      "cell_type": "code",
      "metadata": {
        "id": "kOSjoRaQs43T",
        "colab_type": "code",
        "outputId": "c5a7ff1d-d0d9-4ac4-ca8d-13c9263f8d37",
        "colab": {
          "base_uri": "https://localhost:8080/",
          "height": 54
        }
      },
      "source": [
        "##sample dataset is stored in google drive ##\n",
        "\n",
        "# to mount drive in google colaboratory environment #\n",
        "from google.colab import drive\n",
        "drive.mount('/content/drive')"
      ],
      "execution_count": 118,
      "outputs": [
        {
          "output_type": "stream",
          "text": [
            "Drive already mounted at /content/drive; to attempt to forcibly remount, call drive.mount(\"/content/drive\", force_remount=True).\n"
          ],
          "name": "stdout"
        }
      ]
    },
    {
      "cell_type": "code",
      "metadata": {
        "id": "O95i7r_As6Iy",
        "colab_type": "code",
        "colab": {}
      },
      "source": [
        "## required libraries\n",
        "\n",
        "import pandas as pd                 # for statistical analysis\n",
        "import numpy as np                  # for mathematical operations\n",
        "import seaborn as sns               # for visualization\n",
        "import matplotlib.pyplot as plt     ################"
      ],
      "execution_count": 0,
      "outputs": []
    },
    {
      "cell_type": "markdown",
      "metadata": {
        "id": "J94IA51VfIAi",
        "colab_type": "text"
      },
      "source": [
        "## Data Collection\n",
        "\n",
        "\n",
        "Data is generated every 5 minutes approx in form of xml file, xml file has tree like structure and cannot be used directly for data analysis and predictive modeling. So to get data in form of csv/excel sheet, we have a xml parser **[script](https://github.com/raheel-dev/Fly.me-Data-Analysis-Predictive-modeling/blob/master/XML%20Parser/xml2csvV1.ipynb)** written in python using 'lxml library', sample dataset consist of 3 GB, extracted records are more 153k+ and 34 columns."
      ]
    },
    {
      "cell_type": "code",
      "metadata": {
        "id": "lFniEaFFtNoK",
        "colab_type": "code",
        "outputId": "c58b3c1e-5328-4627-fc0d-02d47f58ddb7",
        "colab": {
          "base_uri": "https://localhost:8080/",
          "height": 70
        }
      },
      "source": [
        "## reading dataset from directory\n",
        "df = pd.read_csv('/content/drive/My Drive/sabre-ingest/sabre_ingest_data.csv')"
      ],
      "execution_count": 120,
      "outputs": [
        {
          "output_type": "stream",
          "text": [
            "/usr/local/lib/python3.6/dist-packages/IPython/core/interactiveshell.py:2718: DtypeWarning: Columns (29,30) have mixed types. Specify dtype option on import or set low_memory=False.\n",
            "  interactivity=interactivity, compiler=compiler, result=result)\n"
          ],
          "name": "stderr"
        }
      ]
    },
    {
      "cell_type": "code",
      "metadata": {
        "colab_type": "code",
        "outputId": "f8476f9b-6414-4167-a042-dc999c172b1a",
        "id": "YJ0z8YfJW4L7",
        "colab": {
          "base_uri": "https://localhost:8080/",
          "height": 34
        }
      },
      "source": [
        "type(df)"
      ],
      "execution_count": 121,
      "outputs": [
        {
          "output_type": "execute_result",
          "data": {
            "text/plain": [
              "pandas.core.frame.DataFrame"
            ]
          },
          "metadata": {
            "tags": []
          },
          "execution_count": 121
        }
      ]
    },
    {
      "cell_type": "code",
      "metadata": {
        "id": "oLdnx7FWW5RW",
        "colab_type": "code",
        "colab": {}
      },
      "source": [
        "df = df.loc[:, ~df.columns.str.contains('^Unnamed')]"
      ],
      "execution_count": 0,
      "outputs": []
    },
    {
      "cell_type": "code",
      "metadata": {
        "id": "k9Ugjf20u2vq",
        "colab_type": "code",
        "outputId": "67ca33c9-bdd4-493d-fc0b-711318a6926d",
        "colab": {
          "base_uri": "https://localhost:8080/",
          "height": 672
        }
      },
      "source": [
        "df.info()"
      ],
      "execution_count": 123,
      "outputs": [
        {
          "output_type": "stream",
          "text": [
            "<class 'pandas.core.frame.DataFrame'>\n",
            "RangeIndex: 153507 entries, 0 to 153506\n",
            "Data columns (total 34 columns):\n",
            "schedule_id                      153507 non-null int64\n",
            "stops                            153507 non-null int64\n",
            "eticketable                      153507 non-null bool\n",
            "departure_airport                153507 non-null object\n",
            "departure_city                   153507 non-null object\n",
            "departure_time                   153507 non-null object\n",
            "departure_timezoneOffset         153507 non-null object\n",
            "arrival_aiport                   153507 non-null object\n",
            "arrival_city                     153507 non-null object\n",
            "arrival_time                     153507 non-null object\n",
            "arrival_dateAdjustment           153507 non-null int64\n",
            "arrival_timezoneOffset           153507 non-null object\n",
            "carrier_marketing                153507 non-null object\n",
            "carrier_operating                153507 non-null object\n",
            "carrier_codeShared               25714 non-null object\n",
            "carrier_operatingFlightNumber    153507 non-null int64\n",
            "carrier_marketingFlightNumber    153507 non-null int64\n",
            "equipment_code                   153507 non-null object\n",
            "equipment_change                 153507 non-null bool\n",
            "pricing_subSource                153507 non-null object\n",
            "PoSCountryCode                   153507 non-null object\n",
            "passenger_group                  153507 non-null int64\n",
            "passenger_type                   153507 non-null object\n",
            "passenger_number                 153507 non-null int64\n",
            "passenger_nonRefundable          153507 non-null bool\n",
            "total_price                      153507 non-null float64\n",
            "total_taxes                      153507 non-null float64\n",
            "currency                         153507 non-null object\n",
            "departure_date                   5698 non-null object\n",
            "return_date                      5698 non-null object\n",
            "booking_code                     153507 non-null object\n",
            "cabin_code                       153507 non-null object\n",
            "seats_available                  153507 non-null int64\n",
            "availablity_break                153507 non-null bool\n",
            "dtypes: bool(4), float64(2), int64(8), object(20)\n",
            "memory usage: 35.7+ MB\n"
          ],
          "name": "stdout"
        }
      ]
    },
    {
      "cell_type": "markdown",
      "metadata": {
        "id": "5BsTZrNHmy-2",
        "colab_type": "text"
      },
      "source": [
        "So data have more than 153k records and 34 columns, by looking at the entries it looks like that there are null values in 'carrier_codeShared, 'departure and return dates'.\n",
        "\n",
        "**Note**: departure and return dates are not extracted fully yet so this is partial analysis"
      ]
    },
    {
      "cell_type": "code",
      "metadata": {
        "id": "Vt0m2dZwu5AP",
        "colab_type": "code",
        "outputId": "0211ddce-a309-4026-ee05-81bbf32e0c94",
        "colab": {
          "base_uri": "https://localhost:8080/",
          "height": 363
        }
      },
      "source": [
        "## print first 10 records of data head to see what data looks like ##\n",
        "df.head(10)"
      ],
      "execution_count": 125,
      "outputs": [
        {
          "output_type": "execute_result",
          "data": {
            "text/html": [
              "<div>\n",
              "<style scoped>\n",
              "    .dataframe tbody tr th:only-of-type {\n",
              "        vertical-align: middle;\n",
              "    }\n",
              "\n",
              "    .dataframe tbody tr th {\n",
              "        vertical-align: top;\n",
              "    }\n",
              "\n",
              "    .dataframe thead th {\n",
              "        text-align: right;\n",
              "    }\n",
              "</style>\n",
              "<table border=\"1\" class=\"dataframe\">\n",
              "  <thead>\n",
              "    <tr style=\"text-align: right;\">\n",
              "      <th></th>\n",
              "      <th>schedule_id</th>\n",
              "      <th>stops</th>\n",
              "      <th>eticketable</th>\n",
              "      <th>departure_airport</th>\n",
              "      <th>departure_city</th>\n",
              "      <th>departure_time</th>\n",
              "      <th>departure_timezoneOffset</th>\n",
              "      <th>arrival_aiport</th>\n",
              "      <th>arrival_city</th>\n",
              "      <th>arrival_time</th>\n",
              "      <th>arrival_dateAdjustment</th>\n",
              "      <th>arrival_timezoneOffset</th>\n",
              "      <th>carrier_marketing</th>\n",
              "      <th>carrier_operating</th>\n",
              "      <th>carrier_codeShared</th>\n",
              "      <th>carrier_operatingFlightNumber</th>\n",
              "      <th>carrier_marketingFlightNumber</th>\n",
              "      <th>equipment_code</th>\n",
              "      <th>equipment_change</th>\n",
              "      <th>pricing_subSource</th>\n",
              "      <th>PoSCountryCode</th>\n",
              "      <th>passenger_group</th>\n",
              "      <th>passenger_type</th>\n",
              "      <th>passenger_number</th>\n",
              "      <th>passenger_nonRefundable</th>\n",
              "      <th>total_price</th>\n",
              "      <th>total_taxes</th>\n",
              "      <th>currency</th>\n",
              "      <th>departure_date</th>\n",
              "      <th>return_date</th>\n",
              "      <th>booking_code</th>\n",
              "      <th>cabin_code</th>\n",
              "      <th>seats_available</th>\n",
              "      <th>availablity_break</th>\n",
              "    </tr>\n",
              "  </thead>\n",
              "  <tbody>\n",
              "    <tr>\n",
              "      <th>0</th>\n",
              "      <td>1</td>\n",
              "      <td>0</td>\n",
              "      <td>True</td>\n",
              "      <td>DEN</td>\n",
              "      <td>DEN</td>\n",
              "      <td>23:45:00</td>\n",
              "      <td>07:00</td>\n",
              "      <td>EWR</td>\n",
              "      <td>QYC</td>\n",
              "      <td>05:19:00</td>\n",
              "      <td>1</td>\n",
              "      <td>05:00</td>\n",
              "      <td>UA</td>\n",
              "      <td>UA</td>\n",
              "      <td>NaN</td>\n",
              "      <td>329</td>\n",
              "      <td>329</td>\n",
              "      <td>739</td>\n",
              "      <td>False</td>\n",
              "      <td>BCH</td>\n",
              "      <td>US</td>\n",
              "      <td>0</td>\n",
              "      <td>ADT</td>\n",
              "      <td>1</td>\n",
              "      <td>True</td>\n",
              "      <td>249.3</td>\n",
              "      <td>52.09</td>\n",
              "      <td>USD</td>\n",
              "      <td>2019-11-24</td>\n",
              "      <td>2019-12-08</td>\n",
              "      <td>N</td>\n",
              "      <td>Y</td>\n",
              "      <td>9</td>\n",
              "      <td>False</td>\n",
              "    </tr>\n",
              "    <tr>\n",
              "      <th>1</th>\n",
              "      <td>2</td>\n",
              "      <td>0</td>\n",
              "      <td>True</td>\n",
              "      <td>EWR</td>\n",
              "      <td>QYC</td>\n",
              "      <td>07:30:00</td>\n",
              "      <td>05:00</td>\n",
              "      <td>BOS</td>\n",
              "      <td>BOS</td>\n",
              "      <td>08:39:00</td>\n",
              "      <td>0</td>\n",
              "      <td>05:00</td>\n",
              "      <td>UA</td>\n",
              "      <td>UA</td>\n",
              "      <td>NaN</td>\n",
              "      <td>2320</td>\n",
              "      <td>2320</td>\n",
              "      <td>739</td>\n",
              "      <td>False</td>\n",
              "      <td>BCH</td>\n",
              "      <td>US</td>\n",
              "      <td>0</td>\n",
              "      <td>ADT</td>\n",
              "      <td>1</td>\n",
              "      <td>True</td>\n",
              "      <td>249.3</td>\n",
              "      <td>52.09</td>\n",
              "      <td>USD</td>\n",
              "      <td>2020-08-25</td>\n",
              "      <td>2020-08-31</td>\n",
              "      <td>N</td>\n",
              "      <td>Y</td>\n",
              "      <td>9</td>\n",
              "      <td>False</td>\n",
              "    </tr>\n",
              "    <tr>\n",
              "      <th>2</th>\n",
              "      <td>3</td>\n",
              "      <td>0</td>\n",
              "      <td>True</td>\n",
              "      <td>BOS</td>\n",
              "      <td>BOS</td>\n",
              "      <td>09:45:00</td>\n",
              "      <td>05:00</td>\n",
              "      <td>DEN</td>\n",
              "      <td>DEN</td>\n",
              "      <td>12:28:00</td>\n",
              "      <td>0</td>\n",
              "      <td>07:00</td>\n",
              "      <td>UA</td>\n",
              "      <td>UA</td>\n",
              "      <td>NaN</td>\n",
              "      <td>416</td>\n",
              "      <td>416</td>\n",
              "      <td>739</td>\n",
              "      <td>False</td>\n",
              "      <td>BCH</td>\n",
              "      <td>US</td>\n",
              "      <td>0</td>\n",
              "      <td>ADT</td>\n",
              "      <td>1</td>\n",
              "      <td>True</td>\n",
              "      <td>249.3</td>\n",
              "      <td>52.09</td>\n",
              "      <td>USD</td>\n",
              "      <td>2019-10-24</td>\n",
              "      <td>2019-10-27</td>\n",
              "      <td>N</td>\n",
              "      <td>Y</td>\n",
              "      <td>9</td>\n",
              "      <td>False</td>\n",
              "    </tr>\n",
              "    <tr>\n",
              "      <th>3</th>\n",
              "      <td>4</td>\n",
              "      <td>0</td>\n",
              "      <td>True</td>\n",
              "      <td>EWR</td>\n",
              "      <td>QYC</td>\n",
              "      <td>06:30:00</td>\n",
              "      <td>05:00</td>\n",
              "      <td>BOS</td>\n",
              "      <td>BOS</td>\n",
              "      <td>07:39:00</td>\n",
              "      <td>0</td>\n",
              "      <td>05:00</td>\n",
              "      <td>UA</td>\n",
              "      <td>UA</td>\n",
              "      <td>NaN</td>\n",
              "      <td>416</td>\n",
              "      <td>416</td>\n",
              "      <td>73G</td>\n",
              "      <td>False</td>\n",
              "      <td>BCH</td>\n",
              "      <td>US</td>\n",
              "      <td>0</td>\n",
              "      <td>ADT</td>\n",
              "      <td>1</td>\n",
              "      <td>True</td>\n",
              "      <td>249.3</td>\n",
              "      <td>52.09</td>\n",
              "      <td>USD</td>\n",
              "      <td>2019-11-11</td>\n",
              "      <td>2019-11-11</td>\n",
              "      <td>N</td>\n",
              "      <td>Y</td>\n",
              "      <td>9</td>\n",
              "      <td>False</td>\n",
              "    </tr>\n",
              "    <tr>\n",
              "      <th>4</th>\n",
              "      <td>5</td>\n",
              "      <td>0</td>\n",
              "      <td>True</td>\n",
              "      <td>BOS</td>\n",
              "      <td>BOS</td>\n",
              "      <td>11:45:00</td>\n",
              "      <td>05:00</td>\n",
              "      <td>DEN</td>\n",
              "      <td>DEN</td>\n",
              "      <td>14:21:00</td>\n",
              "      <td>0</td>\n",
              "      <td>07:00</td>\n",
              "      <td>UA</td>\n",
              "      <td>UA</td>\n",
              "      <td>NaN</td>\n",
              "      <td>652</td>\n",
              "      <td>652</td>\n",
              "      <td>753</td>\n",
              "      <td>False</td>\n",
              "      <td>BCH</td>\n",
              "      <td>US</td>\n",
              "      <td>0</td>\n",
              "      <td>ADT</td>\n",
              "      <td>1</td>\n",
              "      <td>True</td>\n",
              "      <td>253.5</td>\n",
              "      <td>56.29</td>\n",
              "      <td>USD</td>\n",
              "      <td>2019-12-04</td>\n",
              "      <td>2020-01-06</td>\n",
              "      <td>N</td>\n",
              "      <td>Y</td>\n",
              "      <td>9</td>\n",
              "      <td>False</td>\n",
              "    </tr>\n",
              "    <tr>\n",
              "      <th>5</th>\n",
              "      <td>6</td>\n",
              "      <td>1</td>\n",
              "      <td>True</td>\n",
              "      <td>BOS</td>\n",
              "      <td>BOS</td>\n",
              "      <td>08:33:00</td>\n",
              "      <td>05:00</td>\n",
              "      <td>DEN</td>\n",
              "      <td>DEN</td>\n",
              "      <td>14:29:00</td>\n",
              "      <td>0</td>\n",
              "      <td>07:00</td>\n",
              "      <td>UA</td>\n",
              "      <td>UA</td>\n",
              "      <td>NaN</td>\n",
              "      <td>775</td>\n",
              "      <td>775</td>\n",
              "      <td>738</td>\n",
              "      <td>False</td>\n",
              "      <td>BCH</td>\n",
              "      <td>US</td>\n",
              "      <td>0</td>\n",
              "      <td>ADT</td>\n",
              "      <td>1</td>\n",
              "      <td>True</td>\n",
              "      <td>253.5</td>\n",
              "      <td>56.29</td>\n",
              "      <td>USD</td>\n",
              "      <td>2019-12-23</td>\n",
              "      <td>2019-12-28</td>\n",
              "      <td>N</td>\n",
              "      <td>Y</td>\n",
              "      <td>9</td>\n",
              "      <td>False</td>\n",
              "    </tr>\n",
              "    <tr>\n",
              "      <th>6</th>\n",
              "      <td>7</td>\n",
              "      <td>0</td>\n",
              "      <td>True</td>\n",
              "      <td>BOS</td>\n",
              "      <td>BOS</td>\n",
              "      <td>08:33:00</td>\n",
              "      <td>05:00</td>\n",
              "      <td>ORD</td>\n",
              "      <td>CHI</td>\n",
              "      <td>10:25:00</td>\n",
              "      <td>0</td>\n",
              "      <td>06:00</td>\n",
              "      <td>UA</td>\n",
              "      <td>UA</td>\n",
              "      <td>NaN</td>\n",
              "      <td>775</td>\n",
              "      <td>775</td>\n",
              "      <td>738</td>\n",
              "      <td>False</td>\n",
              "      <td>BCH</td>\n",
              "      <td>US</td>\n",
              "      <td>0</td>\n",
              "      <td>ADT</td>\n",
              "      <td>1</td>\n",
              "      <td>True</td>\n",
              "      <td>258.0</td>\n",
              "      <td>60.79</td>\n",
              "      <td>USD</td>\n",
              "      <td>2019-11-08</td>\n",
              "      <td>2019-11-11</td>\n",
              "      <td>N</td>\n",
              "      <td>Y</td>\n",
              "      <td>9</td>\n",
              "      <td>False</td>\n",
              "    </tr>\n",
              "    <tr>\n",
              "      <th>7</th>\n",
              "      <td>8</td>\n",
              "      <td>0</td>\n",
              "      <td>True</td>\n",
              "      <td>ORD</td>\n",
              "      <td>CHI</td>\n",
              "      <td>11:25:00</td>\n",
              "      <td>06:00</td>\n",
              "      <td>DEN</td>\n",
              "      <td>DEN</td>\n",
              "      <td>13:05:00</td>\n",
              "      <td>0</td>\n",
              "      <td>07:00</td>\n",
              "      <td>UA</td>\n",
              "      <td>UA</td>\n",
              "      <td>NaN</td>\n",
              "      <td>2314</td>\n",
              "      <td>2314</td>\n",
              "      <td>739</td>\n",
              "      <td>False</td>\n",
              "      <td>BCH</td>\n",
              "      <td>US</td>\n",
              "      <td>0</td>\n",
              "      <td>ADT</td>\n",
              "      <td>1</td>\n",
              "      <td>True</td>\n",
              "      <td>258.0</td>\n",
              "      <td>60.79</td>\n",
              "      <td>USD</td>\n",
              "      <td>2020-02-19</td>\n",
              "      <td>2020-03-05</td>\n",
              "      <td>N</td>\n",
              "      <td>Y</td>\n",
              "      <td>9</td>\n",
              "      <td>False</td>\n",
              "    </tr>\n",
              "    <tr>\n",
              "      <th>8</th>\n",
              "      <td>9</td>\n",
              "      <td>0</td>\n",
              "      <td>True</td>\n",
              "      <td>BOS</td>\n",
              "      <td>BOS</td>\n",
              "      <td>18:00:00</td>\n",
              "      <td>05:00</td>\n",
              "      <td>EWR</td>\n",
              "      <td>QYC</td>\n",
              "      <td>19:44:00</td>\n",
              "      <td>0</td>\n",
              "      <td>05:00</td>\n",
              "      <td>UA</td>\n",
              "      <td>UA</td>\n",
              "      <td>NaN</td>\n",
              "      <td>1202</td>\n",
              "      <td>1202</td>\n",
              "      <td>320</td>\n",
              "      <td>False</td>\n",
              "      <td>BCH</td>\n",
              "      <td>US</td>\n",
              "      <td>0</td>\n",
              "      <td>ADT</td>\n",
              "      <td>1</td>\n",
              "      <td>True</td>\n",
              "      <td>258.0</td>\n",
              "      <td>60.79</td>\n",
              "      <td>USD</td>\n",
              "      <td>2019-12-25</td>\n",
              "      <td>2019-12-28</td>\n",
              "      <td>N</td>\n",
              "      <td>Y</td>\n",
              "      <td>9</td>\n",
              "      <td>False</td>\n",
              "    </tr>\n",
              "    <tr>\n",
              "      <th>9</th>\n",
              "      <td>10</td>\n",
              "      <td>0</td>\n",
              "      <td>True</td>\n",
              "      <td>EWR</td>\n",
              "      <td>QYC</td>\n",
              "      <td>20:30:00</td>\n",
              "      <td>05:00</td>\n",
              "      <td>DEN</td>\n",
              "      <td>DEN</td>\n",
              "      <td>22:58:00</td>\n",
              "      <td>0</td>\n",
              "      <td>07:00</td>\n",
              "      <td>UA</td>\n",
              "      <td>UA</td>\n",
              "      <td>NaN</td>\n",
              "      <td>2217</td>\n",
              "      <td>2217</td>\n",
              "      <td>739</td>\n",
              "      <td>False</td>\n",
              "      <td>BCH</td>\n",
              "      <td>US</td>\n",
              "      <td>0</td>\n",
              "      <td>ADT</td>\n",
              "      <td>1</td>\n",
              "      <td>True</td>\n",
              "      <td>258.0</td>\n",
              "      <td>60.79</td>\n",
              "      <td>USD</td>\n",
              "      <td>2019-11-01</td>\n",
              "      <td>2019-11-15</td>\n",
              "      <td>N</td>\n",
              "      <td>Y</td>\n",
              "      <td>9</td>\n",
              "      <td>False</td>\n",
              "    </tr>\n",
              "  </tbody>\n",
              "</table>\n",
              "</div>"
            ],
            "text/plain": [
              "   schedule_id  stops  ...  seats_available availablity_break\n",
              "0            1      0  ...                9             False\n",
              "1            2      0  ...                9             False\n",
              "2            3      0  ...                9             False\n",
              "3            4      0  ...                9             False\n",
              "4            5      0  ...                9             False\n",
              "5            6      1  ...                9             False\n",
              "6            7      0  ...                9             False\n",
              "7            8      0  ...                9             False\n",
              "8            9      0  ...                9             False\n",
              "9           10      0  ...                9             False\n",
              "\n",
              "[10 rows x 34 columns]"
            ]
          },
          "metadata": {
            "tags": []
          },
          "execution_count": 125
        }
      ]
    },
    {
      "cell_type": "code",
      "metadata": {
        "id": "QeZTeVJUu6jT",
        "colab_type": "code",
        "outputId": "edb34465-eb0e-4dcb-898b-4103cfbfb728",
        "colab": {
          "base_uri": "https://localhost:8080/",
          "height": 84
        }
      },
      "source": [
        "## stops have no null values,\n",
        "## most of the values are of zeros and least values are of 2\n",
        "\n",
        "df['stops'].value_counts()"
      ],
      "execution_count": 191,
      "outputs": [
        {
          "output_type": "execute_result",
          "data": {
            "text/plain": [
              "0    152411\n",
              "1      1082\n",
              "2        14\n",
              "Name: stops, dtype: int64"
            ]
          },
          "metadata": {
            "tags": []
          },
          "execution_count": 191
        }
      ]
    },
    {
      "cell_type": "code",
      "metadata": {
        "id": "spwwqThlXLLw",
        "colab_type": "code",
        "outputId": "b3b2dbb9-d697-4773-cb5f-f4e7c1cb4889",
        "colab": {
          "base_uri": "https://localhost:8080/",
          "height": 67
        }
      },
      "source": [
        "## no null value and just 9 False and remaining are true\n",
        "\n",
        "df['eticketable'].value_counts()"
      ],
      "execution_count": 192,
      "outputs": [
        {
          "output_type": "execute_result",
          "data": {
            "text/plain": [
              "True     153498\n",
              "False         9\n",
              "Name: eticketable, dtype: int64"
            ]
          },
          "metadata": {
            "tags": []
          },
          "execution_count": 192
        }
      ]
    },
    {
      "cell_type": "code",
      "metadata": {
        "id": "0qfdHLJ-XciH",
        "colab_type": "code",
        "outputId": "1ad8dae2-9e58-413b-b7ee-1ba3c6eba55d",
        "colab": {
          "base_uri": "https://localhost:8080/",
          "height": 218
        }
      },
      "source": [
        "## no null value\n",
        "## most of the airports from where flights arrived and least ones as well\n",
        "df['arrival_aiport'].value_counts()"
      ],
      "execution_count": 193,
      "outputs": [
        {
          "output_type": "execute_result",
          "data": {
            "text/plain": [
              "LAX    13094\n",
              "ORD     7804\n",
              "BOS     7308\n",
              "DFW     6701\n",
              "ATL     6359\n",
              "       ...  \n",
              "PCT        1\n",
              "OLM        1\n",
              "CUR        1\n",
              "LKP        1\n",
              "RKD        1\n",
              "Name: arrival_aiport, Length: 678, dtype: int64"
            ]
          },
          "metadata": {
            "tags": []
          },
          "execution_count": 193
        }
      ]
    },
    {
      "cell_type": "markdown",
      "metadata": {
        "id": "42vWlzhPocxe",
        "colab_type": "text"
      },
      "source": [
        "\n",
        "\n",
        "\n",
        "Most of the flights are destined to these airports\n",
        "\n",
        "- QYC  ()\n",
        "- LAX  (LOS ANGELES INTERNATIONAL AIRPORT)\n",
        "- CHI  ()\n",
        "- BOS  (LOGAN INTERNATIONAL AIRPORT)\n",
        "- QDF\n",
        "\n",
        "and least of flights are destined to these airports\n",
        "\n",
        "- STR  ()\n",
        "- DOV  ()\n",
        "- VCE  ()\n",
        "- CUR  ()\n",
        "- BLM  ()"
      ]
    },
    {
      "cell_type": "code",
      "metadata": {
        "id": "vIJYecQ_gi4X",
        "colab_type": "code",
        "outputId": "65a6524e-5456-4e23-88b7-8ab057a0ee6e",
        "colab": {
          "base_uri": "https://localhost:8080/",
          "height": 218
        }
      },
      "source": [
        "df['arrival_city'].value_counts()"
      ],
      "execution_count": 194,
      "outputs": [
        {
          "output_type": "execute_result",
          "data": {
            "text/plain": [
              "QYC    11970\n",
              "LAX    11575\n",
              "CHI     7812\n",
              "BOS     7329\n",
              "QDF     6665\n",
              "       ...  \n",
              "STR        1\n",
              "DOV        1\n",
              "VCE        1\n",
              "CUR        1\n",
              "BLM        1\n",
              "Name: arrival_city, Length: 604, dtype: int64"
            ]
          },
          "metadata": {
            "tags": []
          },
          "execution_count": 194
        }
      ]
    },
    {
      "cell_type": "code",
      "metadata": {
        "id": "HIrlzrM8ip5v",
        "colab_type": "code",
        "colab": {}
      },
      "source": [
        "df['arrival_time'] = pd.to_datetime(df['arrival_time'])\n",
        "df['arrival_hour'] = df['arrival_time'].dt.hour\n",
        "df['arrival_minute'] = df['arrival_time'].dt.minute"
      ],
      "execution_count": 0,
      "outputs": []
    },
    {
      "cell_type": "code",
      "metadata": {
        "id": "IGZ8R-Bqi1Ev",
        "colab_type": "code",
        "outputId": "c5fddd8b-4a39-4eb4-e4f3-1fff9fc11b99",
        "colab": {
          "base_uri": "https://localhost:8080/",
          "height": 431
        }
      },
      "source": [
        "plt.figure(figsize = (10, 7))\n",
        "df['arrival_hour'].value_counts().plot(kind = 'bar')\n",
        "plt.show()"
      ],
      "execution_count": 197,
      "outputs": [
        {
          "output_type": "display_data",
          "data": {
            "image/png": "[encoded data removed]",
            "text/plain": [
              "<Figure size 720x504 with 1 Axes>"
            ]
          },
          "metadata": {
            "tags": []
          }
        }
      ]
    },
    {
      "cell_type": "markdown",
      "metadata": {
        "id": "MOz7ErxYsZCb",
        "colab_type": "text"
      },
      "source": [
        "From figure it looks like that most of the flights arrived at the destination airports as:\n",
        "\n",
        "- there is less arrival flights from midnight to about 7 AM\n",
        "- the highest traffic is between 10:00 to 19:00"
      ]
    },
    {
      "cell_type": "code",
      "metadata": {
        "id": "Q0s103FIi75x",
        "colab_type": "code",
        "outputId": "9f8342a5-1dc1-42e3-8536-af001345cf7b",
        "colab": {
          "base_uri": "https://localhost:8080/",
          "height": 447
        }
      },
      "source": [
        "plt.figure(figsize = (10, 7))\n",
        "df['arrival_timezoneOffset'].value_counts().plot(kind = 'bar')\n",
        "plt.show()"
      ],
      "execution_count": 198,
      "outputs": [
        {
          "output_type": "display_data",
          "data": {
            "image/png": "[encoded data removed]",
            "text/plain": [
              "<Figure size 720x504 with 1 Axes>"
            ]
          },
          "metadata": {
            "tags": []
          }
        }
      ]
    },
    {
      "cell_type": "code",
      "metadata": {
        "id": "_WPYLikcuwXn",
        "colab_type": "code",
        "colab": {
          "base_uri": "https://localhost:8080/",
          "height": 218
        },
        "outputId": "594622d7-2013-4bd7-ed81-fcc1cdab39d2"
      },
      "source": [
        "df['departure_airport'].value_counts()"
      ],
      "execution_count": 199,
      "outputs": [
        {
          "output_type": "execute_result",
          "data": {
            "text/plain": [
              "LAX    12406\n",
              "BOS     8110\n",
              "ORD     7777\n",
              "DFW     6595\n",
              "ATL     6396\n",
              "       ...  \n",
              "CUR        1\n",
              "PRG        1\n",
              "ZPH        1\n",
              "PWK        1\n",
              "LAL        1\n",
              "Name: departure_airport, Length: 676, dtype: int64"
            ]
          },
          "metadata": {
            "tags": []
          },
          "execution_count": 199
        }
      ]
    },
    {
      "cell_type": "markdown",
      "metadata": {
        "id": "aubX6sRJvTxg",
        "colab_type": "text"
      },
      "source": [
        "\n",
        "\n",
        "\n",
        "Most of the flights are departed from these airports\n",
        "\n",
        "- LAX  (LOS ANGELES INTERNATIONAL AIRPORT)\n",
        "- BOS  (LOGAN INTERNATIONAL AIRPORT)\n",
        "- ORD\n",
        "- DFW\n",
        "- ATL\n",
        "\n",
        "and least of flights are departed from these airports\n",
        "\n",
        "- CUR  ()\n",
        "- PRG  ()\n",
        "- ZPH  ()\n",
        "- PWK  ()\n",
        "- LAL  ()"
      ]
    },
    {
      "cell_type": "code",
      "metadata": {
        "id": "ij4ncQjAYwzc",
        "colab_type": "code",
        "outputId": "34c1b97a-6e4f-4c2b-e7b0-f2eb52854091",
        "colab": {
          "base_uri": "https://localhost:8080/",
          "height": 218
        }
      },
      "source": [
        "df['departure_city'].value_counts()"
      ],
      "execution_count": 200,
      "outputs": [
        {
          "output_type": "execute_result",
          "data": {
            "text/plain": [
              "QYC    12059\n",
              "LAX    10949\n",
              "BOS     8134\n",
              "CHI     7788\n",
              "QDF     6557\n",
              "       ...  \n",
              "HRO        1\n",
              "PRG        1\n",
              "LAL        1\n",
              "RKD        1\n",
              "LBB        1\n",
              "Name: departure_city, Length: 604, dtype: int64"
            ]
          },
          "metadata": {
            "tags": []
          },
          "execution_count": 200
        }
      ]
    },
    {
      "cell_type": "code",
      "metadata": {
        "id": "c3Gcqx3jZ0OO",
        "colab_type": "code",
        "colab": {}
      },
      "source": [
        "df['departure_time'] = pd.to_datetime(df['departure_time'])\n",
        "df['departure_hour'] = df['departure_time'].dt.hour\n",
        "df['departure_minute'] = df['departure_time'].dt.minute"
      ],
      "execution_count": 0,
      "outputs": []
    },
    {
      "cell_type": "code",
      "metadata": {
        "id": "SbnNJPLwanXt",
        "colab_type": "code",
        "outputId": "17473f4c-0c25-43f5-a74c-fc368694f90c",
        "colab": {
          "base_uri": "https://localhost:8080/",
          "height": 431
        }
      },
      "source": [
        "plt.figure(figsize = (10, 7))\n",
        "df['departure_hour'].value_counts().plot(kind = 'bar')\n",
        "plt.show()"
      ],
      "execution_count": 202,
      "outputs": [
        {
          "output_type": "display_data",
          "data": {
            "image/png": "[encoded data removed]",
            "text/plain": [
              "<Figure size 720x504 with 1 Axes>"
            ]
          },
          "metadata": {
            "tags": []
          }
        }
      ]
    },
    {
      "cell_type": "code",
      "metadata": {
        "id": "A1ppWxI2bEOQ",
        "colab_type": "code",
        "outputId": "d83754cc-c24e-41e4-cbc5-7da159d5845b",
        "colab": {
          "base_uri": "https://localhost:8080/",
          "height": 447
        }
      },
      "source": [
        "plt.figure(figsize = (10, 7))\n",
        "df['departure_timezoneOffset'].value_counts().plot(kind = 'bar')\n",
        "plt.show()"
      ],
      "execution_count": 203,
      "outputs": [
        {
          "output_type": "display_data",
          "data": {
            "image/png": "[encoded data removed]",
            "text/plain": [
              "<Figure size 720x504 with 1 Axes>"
            ]
          },
          "metadata": {
            "tags": []
          }
        }
      ]
    },
    {
      "cell_type": "code",
      "metadata": {
        "id": "nLrDGZzBbgoV",
        "colab_type": "code",
        "outputId": "b419e13b-23bb-4082-e809-dc0d613b26c0",
        "colab": {
          "base_uri": "https://localhost:8080/",
          "height": 218
        }
      },
      "source": [
        "df['carrier_marketing'].value_counts()"
      ],
      "execution_count": 204,
      "outputs": [
        {
          "output_type": "execute_result",
          "data": {
            "text/plain": [
              "AA    37673\n",
              "UA    23967\n",
              "DL    15170\n",
              "AS    11879\n",
              "O2     9588\n",
              "      ...  \n",
              "TA        1\n",
              "7C        1\n",
              "B7        1\n",
              "JQ        1\n",
              "EW        1\n",
              "Name: carrier_marketing, Length: 114, dtype: int64"
            ]
          },
          "metadata": {
            "tags": []
          },
          "execution_count": 204
        }
      ]
    },
    {
      "cell_type": "code",
      "metadata": {
        "id": "D8xT8GqGcbSJ",
        "colab_type": "code",
        "outputId": "91fcae7c-ccb0-47a5-95f8-11617f18753a",
        "colab": {
          "base_uri": "https://localhost:8080/",
          "height": 218
        }
      },
      "source": [
        "df['carrier_operating'].value_counts()"
      ],
      "execution_count": 205,
      "outputs": [
        {
          "output_type": "execute_result",
          "data": {
            "text/plain": [
              "AA    40340\n",
              "UA    24550\n",
              "DL    17287\n",
              "AS    11400\n",
              "O2     9588\n",
              "      ...  \n",
              "TA        1\n",
              "7C        1\n",
              "B7        1\n",
              "LJ        1\n",
              "OD        1\n",
              "Name: carrier_operating, Length: 152, dtype: int64"
            ]
          },
          "metadata": {
            "tags": []
          },
          "execution_count": 205
        }
      ]
    },
    {
      "cell_type": "code",
      "metadata": {
        "id": "-GBPIukrcvwW",
        "colab_type": "code",
        "outputId": "4fe365ae-d6f4-4f16-e5aa-5b04d88cc539",
        "colab": {
          "base_uri": "https://localhost:8080/",
          "height": 252
        }
      },
      "source": [
        "print(df['carrier_codeShared'].value_counts())\n",
        "print()\n",
        "print('Null values: ', df['carrier_codeShared'].isna().sum())"
      ],
      "execution_count": 206,
      "outputs": [
        {
          "output_type": "stream",
          "text": [
            "AIRLINE 8ZMA365P AS LINEAR AIR TAXI       3280\n",
            "/HORIZON AIR AS ALASKAHORIZON             1570\n",
            "/SKYWEST DBA UNITED EXPRESS               1236\n",
            "REPUBLIC AIRWAYS AS AMERICAN EAGLE        1196\n",
            "/REPUBLIC AIRLINES DBA UNITED EXPRESS     1129\n",
            "                                          ... \n",
            "/CITYHOPPER                                  1\n",
            "/LGW LUFTFAHRTGES WALTER FOR EUROWINGS       1\n",
            "AIRLINE IICA001F AS LINEAR AIR TAXI          1\n",
            "AIRLINE OW6A318J AS LINEAR AIR TAXI          1\n",
            "AIRLINE IKJA031F AS LINEAR AIR TAXI          1\n",
            "Name: carrier_codeShared, Length: 255, dtype: int64\n",
            "\n",
            "Null values:  127793\n"
          ],
          "name": "stdout"
        }
      ]
    },
    {
      "cell_type": "code",
      "metadata": {
        "id": "C-uqHI9jc1Kw",
        "colab_type": "code",
        "outputId": "9ee93bad-a115-4081-883b-7b6b0d3d078b",
        "colab": {
          "base_uri": "https://localhost:8080/",
          "height": 218
        }
      },
      "source": [
        "df['carrier_marketingFlightNumber'].value_counts()"
      ],
      "execution_count": 207,
      "outputs": [
        {
          "output_type": "execute_result",
          "data": {
            "text/plain": [
              "403     183\n",
              "775     181\n",
              "7       180\n",
              "6       176\n",
              "770     176\n",
              "       ... \n",
              "3340      1\n",
              "5835      1\n",
              "4518      1\n",
              "8480      1\n",
              "3382      1\n",
              "Name: carrier_marketingFlightNumber, Length: 8187, dtype: int64"
            ]
          },
          "metadata": {
            "tags": []
          },
          "execution_count": 207
        }
      ]
    },
    {
      "cell_type": "code",
      "metadata": {
        "id": "kzTKIobKeM_a",
        "colab_type": "code",
        "outputId": "1f5596d7-61ae-48d6-ec36-65b1646c34d6",
        "colab": {
          "base_uri": "https://localhost:8080/",
          "height": 218
        }
      },
      "source": [
        "df['carrier_operatingFlightNumber'].value_counts()"
      ],
      "execution_count": 161,
      "outputs": [
        {
          "output_type": "execute_result",
          "data": {
            "text/plain": [
              "69      231\n",
              "7       220\n",
              "106     218\n",
              "6       208\n",
              "66      200\n",
              "       ... \n",
              "4844      1\n",
              "6327      1\n",
              "8775      1\n",
              "6367      1\n",
              "2837      1\n",
              "Name: carrier_operatingFlightNumber, Length: 6599, dtype: int64"
            ]
          },
          "metadata": {
            "tags": []
          },
          "execution_count": 161
        }
      ]
    },
    {
      "cell_type": "code",
      "metadata": {
        "id": "9yPnaBXWeTak",
        "colab_type": "code",
        "outputId": "22ac6885-0294-49fd-f50c-b31d8c616afb",
        "colab": {
          "base_uri": "https://localhost:8080/",
          "height": 84
        }
      },
      "source": [
        "df['pricing_subSource'].value_counts()"
      ],
      "execution_count": 162,
      "outputs": [
        {
          "output_type": "execute_result",
          "data": {
            "text/plain": [
              "MIP     120825\n",
              "BCH      30832\n",
              "HPIS      1850\n",
              "Name: pricing_subSource, dtype: int64"
            ]
          },
          "metadata": {
            "tags": []
          },
          "execution_count": 162
        }
      ]
    },
    {
      "cell_type": "code",
      "metadata": {
        "id": "GAdA88-oeqLf",
        "colab_type": "code",
        "outputId": "8fec0517-bc9a-43fe-9a2c-0fe78aa7b55e",
        "colab": {
          "base_uri": "https://localhost:8080/",
          "height": 67
        }
      },
      "source": [
        "df['passenger_group'].value_counts()"
      ],
      "execution_count": 163,
      "outputs": [
        {
          "output_type": "execute_result",
          "data": {
            "text/plain": [
              "0    153478\n",
              "1        29\n",
              "Name: passenger_group, dtype: int64"
            ]
          },
          "metadata": {
            "tags": []
          },
          "execution_count": 163
        }
      ]
    },
    {
      "cell_type": "code",
      "metadata": {
        "id": "i7jrNXspfEF_",
        "colab_type": "code",
        "outputId": "2b374f10-31ae-41bb-d96c-bdae323ec803",
        "colab": {
          "base_uri": "https://localhost:8080/",
          "height": 67
        }
      },
      "source": [
        "df['passenger_nonRefundable'].value_counts()"
      ],
      "execution_count": 164,
      "outputs": [
        {
          "output_type": "execute_result",
          "data": {
            "text/plain": [
              "True     136571\n",
              "False     16936\n",
              "Name: passenger_nonRefundable, dtype: int64"
            ]
          },
          "metadata": {
            "tags": []
          },
          "execution_count": 164
        }
      ]
    },
    {
      "cell_type": "code",
      "metadata": {
        "id": "JFCExZoRfLXr",
        "colab_type": "code",
        "outputId": "08baa871-7909-4487-b009-e7d2adfcb0f3",
        "colab": {
          "base_uri": "https://localhost:8080/",
          "height": 218
        }
      },
      "source": [
        "df['total_price'].value_counts()"
      ],
      "execution_count": 165,
      "outputs": [
        {
          "output_type": "execute_result",
          "data": {
            "text/plain": [
              "6751.32    941\n",
              "6755.82    742\n",
              "136.59     519\n",
              "228.00     397\n",
              "225.30     389\n",
              "          ... \n",
              "507.97       1\n",
              "1286.35      1\n",
              "759.14       1\n",
              "1400.26      1\n",
              "661.30       1\n",
              "Name: total_price, Length: 20164, dtype: int64"
            ]
          },
          "metadata": {
            "tags": []
          },
          "execution_count": 165
        }
      ]
    },
    {
      "cell_type": "code",
      "metadata": {
        "id": "NczQ72RpfWSp",
        "colab_type": "code",
        "outputId": "4921fe9d-4da2-405e-bebc-42e5df7e016f",
        "colab": {
          "base_uri": "https://localhost:8080/",
          "height": 218
        }
      },
      "source": [
        "df['total_taxes'].value_counts()"
      ],
      "execution_count": 166,
      "outputs": [
        {
          "output_type": "execute_result",
          "data": {
            "text/plain": [
              "9.00      2602\n",
              "18.00     2094\n",
              "13.50     2037\n",
              "278.85    1349\n",
              "66.40      721\n",
              "          ... \n",
              "96.89        1\n",
              "488.35       1\n",
              "132.24       1\n",
              "769.05       1\n",
              "457.43       1\n",
              "Name: total_taxes, Length: 8870, dtype: int64"
            ]
          },
          "metadata": {
            "tags": []
          },
          "execution_count": 166
        }
      ]
    },
    {
      "cell_type": "code",
      "metadata": {
        "id": "jJQNcy8Gfzty",
        "colab_type": "code",
        "outputId": "065cdc92-b5be-4ad3-9b64-f6da19242f5c",
        "colab": {
          "base_uri": "https://localhost:8080/",
          "height": 428
        }
      },
      "source": [
        "plt.figure(figsize = (10, 7))\n",
        "df['booking_code'].value_counts().plot(kind = 'bar')\n",
        "plt.show()"
      ],
      "execution_count": 169,
      "outputs": [
        {
          "output_type": "display_data",
          "data": {
            "image/png": "[encoded data removed]",
            "text/plain": [
              "<Figure size 720x504 with 1 Axes>"
            ]
          },
          "metadata": {
            "tags": []
          }
        }
      ]
    },
    {
      "cell_type": "code",
      "metadata": {
        "id": "zYmSVrTaf6fS",
        "colab_type": "code",
        "outputId": "fd35414c-ad4d-4419-97b2-6861a51e6620",
        "colab": {
          "base_uri": "https://localhost:8080/",
          "height": 101
        }
      },
      "source": [
        "df['cabin_code'].value_counts()"
      ],
      "execution_count": 170,
      "outputs": [
        {
          "output_type": "execute_result",
          "data": {
            "text/plain": [
              "Y    153029\n",
              "S       291\n",
              "C       105\n",
              "F        82\n",
              "Name: cabin_code, dtype: int64"
            ]
          },
          "metadata": {
            "tags": []
          },
          "execution_count": 170
        }
      ]
    },
    {
      "cell_type": "code",
      "metadata": {
        "id": "eRKgc8KMgCky",
        "colab_type": "code",
        "outputId": "a318d6fd-2e62-49ac-fbec-cf5edfee753b",
        "colab": {
          "base_uri": "https://localhost:8080/",
          "height": 202
        }
      },
      "source": [
        "df['seats_available'].value_counts()"
      ],
      "execution_count": 171,
      "outputs": [
        {
          "output_type": "execute_result",
          "data": {
            "text/plain": [
              "9    92521\n",
              "7    24149\n",
              "4    16475\n",
              "1     4692\n",
              "2     4323\n",
              "3     3529\n",
              "6     2976\n",
              "5     2728\n",
              "8     2111\n",
              "0        3\n",
              "Name: seats_available, dtype: int64"
            ]
          },
          "metadata": {
            "tags": []
          },
          "execution_count": 171
        }
      ]
    },
    {
      "cell_type": "code",
      "metadata": {
        "id": "3A3gMeYwgRjh",
        "colab_type": "code",
        "outputId": "ec5f3d8f-b1d3-4988-f225-fe485c5fe322",
        "colab": {
          "base_uri": "https://localhost:8080/",
          "height": 67
        }
      },
      "source": [
        "df['availablity_break'].value_counts()"
      ],
      "execution_count": 172,
      "outputs": [
        {
          "output_type": "execute_result",
          "data": {
            "text/plain": [
              "False    89536\n",
              "True     63971\n",
              "Name: availablity_break, dtype: int64"
            ]
          },
          "metadata": {
            "tags": []
          },
          "execution_count": 172
        }
      ]
    },
    {
      "cell_type": "code",
      "metadata": {
        "id": "-7ujuPANgVpO",
        "colab_type": "code",
        "outputId": "2468c9f6-e2a3-463f-cf5a-7a0f7a3662af",
        "colab": {
          "base_uri": "https://localhost:8080/",
          "height": 672
        }
      },
      "source": [
        "df.isna().sum()"
      ],
      "execution_count": 173,
      "outputs": [
        {
          "output_type": "execute_result",
          "data": {
            "text/plain": [
              "schedule_id                           0\n",
              "stops                                 0\n",
              "eticketable                           0\n",
              "departure_airport                     0\n",
              "departure_city                        0\n",
              "departure_time                        0\n",
              "departure_timezoneOffset              0\n",
              "arrival_aiport                        0\n",
              "arrival_city                          0\n",
              "arrival_time                          0\n",
              "arrival_dateAdjustment                0\n",
              "arrival_timezoneOffset                0\n",
              "carrier_marketing                     0\n",
              "carrier_operating                     0\n",
              "carrier_codeShared               127793\n",
              "carrier_operatingFlightNumber         0\n",
              "carrier_marketingFlightNumber         0\n",
              "equipment_code                        0\n",
              "equipment_change                      0\n",
              "pricing_subSource                     0\n",
              "PoSCountryCode                        0\n",
              "passenger_group                       0\n",
              "passenger_type                        0\n",
              "passenger_number                      0\n",
              "passenger_nonRefundable               0\n",
              "total_price                           0\n",
              "total_taxes                           0\n",
              "currency                              0\n",
              "departure_date                   147809\n",
              "return_date                      147809\n",
              "booking_code                          0\n",
              "cabin_code                            0\n",
              "seats_available                       0\n",
              "availablity_break                     0\n",
              "arrival_hour                          0\n",
              "arrival_minute                        0\n",
              "departure_hour                        0\n",
              "departure_minute                      0\n",
              "dtype: int64"
            ]
          },
          "metadata": {
            "tags": []
          },
          "execution_count": 173
        }
      ]
    },
    {
      "cell_type": "code",
      "metadata": {
        "id": "rULW9HCZQSyl",
        "colab_type": "code",
        "colab": {}
      },
      "source": [
        ""
      ],
      "execution_count": 0,
      "outputs": []
    }
  ]
}